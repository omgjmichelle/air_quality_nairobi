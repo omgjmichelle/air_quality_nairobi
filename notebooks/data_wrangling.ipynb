{
 "cells": [
  {
   "cell_type": "markdown",
   "metadata": {},
   "source": [
    "# Prévision de la qualité de l'air et des risques climatiques"
   ]
  },
  {
   "cell_type": "markdown",
   "metadata": {},
   "source": [
    "Ce projet consistera analyser les données de la qualité de l’air à partir des données qui collectées et partagées quotidiennement dans la ville de Nairobi. Les données utilisé ici ont été  récoltées par des capteurs installés en différents lieux stratégiques de la ville et publiées en temps réel sous forme de fichiers CSV sur le site africaopendata.org du projet sensor.africa; allant de Septembre à Décembre 2018.\n"
   ]
  },
  {
   "cell_type": "markdown",
   "metadata": {},
   "source": [
    "## 1-  Structuration des données"
   ]
  },
  {
   "cell_type": "markdown",
   "metadata": {},
   "source": [
    "Ce notebook déroule le processus de structuration ces données brutes envoyée par les capteurs. Les différentes étapes de son déroulement sont  les suivantes :\n",
    "- Le stockage des données brutes  dans MongoDB\n",
    "- Exploration\n",
    "- l'importation\n",
    "- Nettoyage des données\n",
    "-  Stockage des données dans en csv"
   ]
  },
  {
   "cell_type": "markdown",
   "metadata": {},
   "source": [
    "### A- Le stockage des données brutes  dans MongoDB"
   ]
  },
  {
   "cell_type": "markdown",
   "metadata": {},
   "source": [
    "Importation des librairies"
   ]
  },
  {
   "cell_type": "code",
   "execution_count": 1,
   "metadata": {},
   "outputs": [],
   "source": [
    "#importation des librairies \n",
    "import pandas as pd\n",
    "import matplotlib.pyplot as plt\n",
    "import seaborn as sns\n",
    "import plotly.express as px\n",
    "import plotly.graph_objects as go\n",
    "from plotly.subplots import make_subplots\n",
    "import plotly.io as pio\n",
    "pio.templates.default = \"plotly_white\"\n",
    "import folium\n",
    "import csv\n",
    "import json\n",
    "from pprint import PrettyPrinter\n",
    "import datetime\n",
    "import pandas as pd\n",
    "from pymongo import MongoClient\n",
    "from datetime import datetime as dt"
   ]
  },
  {
   "cell_type": "markdown",
   "metadata": {},
   "source": [
    "Fonction de Conversion des fichiers csv en json"
   ]
  },
  {
   "cell_type": "code",
   "execution_count": 2,
   "metadata": {},
   "outputs": [],
   "source": [
    "#\n",
    "def wrangle(filepthcsv, filepathjson):\n",
    "    fcsv = filepthcsv\n",
    "    fjson = filepathjson\n",
    "    data = []\n",
    "    with open(fcsv) as csvfile:\n",
    "        for row in csv.DictReader(csvfile):\n",
    "            data.append(row)\n",
    "    df= pd.DataFrame(data)\n",
    "    df[['sensor_id','sensor_type','location','lat','lon','timestamp','value_type','value']] = df['sensor_id;sensor_type;location;lat;lon;timestamp;value_type;value'].str.split(';', expand= True)\n",
    "    df.drop(columns='sensor_id;sensor_type;location;lat;lon;timestamp;value_type;value', inplace=True)\n",
    "    #df[['sensor_id','location']]= df[['sensor_id','location']].astype('Int64')\n",
    "    #df[['lat','lon','value']]= df[['lat','lon','value']].astype('float')\n",
    "    data_dict = {}\n",
    "    dataset = []\n",
    "    for i in range(len(df)):\n",
    "            value_type =df['value_type'][i]\n",
    "            data_dict= {\n",
    "            f\"{value_type}\":df['value'][i],\n",
    "            'timestamp': df['timestamp'][i],\n",
    "            'metadonnees':{\n",
    "                        'lat':df['lat'][i],\n",
    "                        'lon':df['lon'][i],\n",
    "                        'mesure':df['value_type'][i],\n",
    "                        'sensor_id':df['sensor_id'][i],\n",
    "                        'sensor_type': df['sensor_type'][i],\n",
    "                        'location': df['location'][i]\n",
    "                    }\n",
    "                }\n",
    "            dataset.append(data_dict)\n",
    "    with open(fjson, 'w') as jsonFile:\n",
    "        jsonFile.write(json.dumps(dataset))\n",
    "        print(\"JSON enregistré\")"
   ]
  },
  {
   "cell_type": "markdown",
   "metadata": {},
   "source": [
    "Conversion des différents fichiers"
   ]
  },
  {
   "cell_type": "code",
   "execution_count": 13,
   "metadata": {},
   "outputs": [
    {
     "name": "stdout",
     "output_type": "stream",
     "text": [
      "JSON enregistrer!\n",
      "JSON enregistrer!\n",
      "JSON enregistrer!\n",
      "JSON enregistrer!\n"
     ]
    }
   ],
   "source": [
    "wrangle('C:/Users/hp/Documents/MASTER/Projets tutorés/dataset/september_2018_sensor_data_archive.csv','C:/Users/hp/Documents/MASTER/Projets tutorés/dataset/jsonfiles/september_2018_sensor_data_archive.csv')\n",
    "wrangle('C:/Users/hp/Documents/MASTER/Projets tutorés/dataset/october_2018_sensor_data_archive.csv','C:/Users/hp/Documents/MASTER/Projets tutorés/dataset/jsonfiles/october_2018_sensor_data_archive.csv')\n",
    "wrangle('C:/Users/hp/Documents/MASTER/Projets tutorés/dataset/november_2018_sensor_data_archive.csv','C:/Users/hp/Documents/MASTER/Projets tutorés/dataset/jsonfiles/november_2018_sensor_data_archive.csv')\n",
    "wrangle('C:/Users/hp/Documents/MASTER/Projets tutorés/dataset/december_2018_sensor_data_archive.csv','C:/Users/hp/Documents/MASTER/Projets tutorés/dataset/jsonfiles/december_2018_sensor_data_archive.csv')"
   ]
  },
  {
   "cell_type": "markdown",
   "metadata": {},
   "source": [
    "Fonction d'insertion des fichiers json dans MongoDB"
   ]
  },
  {
   "cell_type": "code",
   "execution_count": 3,
   "metadata": {},
   "outputs": [],
   "source": [
    "def insert(filepathjson,collectionname):\n",
    "    #Importer le fichier JSON sur MongoDB\n",
    "    client = MongoClient('localhost', 27017)\n",
    "    db = client['airquality'] \n",
    "    collection_currency = db[collectionname]\n",
    "    with open(filepathjson, 'r') as content_file:\n",
    "        content = content_file.read()\n",
    "    records = json.loads(content)\n",
    "    collection_currency.insert_many(records)\n",
    "    client.close()\n",
    "    print('Insertion réalisée  avec succes!!')"
   ]
  },
  {
   "cell_type": "markdown",
   "metadata": {},
   "source": [
    "Insrtion des fichier dans MongoDB"
   ]
  },
  {
   "cell_type": "code",
   "execution_count": 14,
   "metadata": {},
   "outputs": [
    {
     "name": "stdout",
     "output_type": "stream",
     "text": [
      "Insertion réalisée  avec succes!!\n",
      "Insertion réalisée  avec succes!!\n",
      "Insertion réalisée  avec succes!!\n",
      "Insertion réalisée  avec succes!!\n"
     ]
    }
   ],
   "source": [
    "insert('C:/Users/hp/Documents/MASTER/Projets tutorés/dataset/jsonfiles/september_2018_sensor_data_archive.csv','nairobi')\n",
    "insert('C:/Users/hp/Documents/MASTER/Projets tutorés/dataset/jsonfiles/october_2018_sensor_data_archive.csv','nairobi')\n",
    "insert('C:/Users/hp/Documents/MASTER/Projets tutorés/dataset/jsonfiles/november_2018_sensor_data_archive.csv','nairobi')\n",
    "insert('C:/Users/hp/Documents/MASTER/Projets tutorés/dataset/jsonfiles/december_2018_sensor_data_archive.csv','nairobi')"
   ]
  },
  {
   "cell_type": "markdown",
   "metadata": {},
   "source": [
    "Fonction de connexion à la base données"
   ]
  },
  {
   "cell_type": "code",
   "execution_count": 4,
   "metadata": {},
   "outputs": [],
   "source": [
    "def connect(collectionname):\n",
    "    client = MongoClient(host=\"localhost\",port=27017)\n",
    "    db = client[\"airquality\"]\n",
    "    nairobi = db[collectionname]\n",
    "    return nairobi"
   ]
  },
  {
   "cell_type": "markdown",
   "metadata": {},
   "source": [
    "connexion à la base données"
   ]
  },
  {
   "cell_type": "code",
   "execution_count": 5,
   "metadata": {},
   "outputs": [],
   "source": [
    "nairobi = connect('nairobi')"
   ]
  },
  {
   "cell_type": "markdown",
   "metadata": {},
   "source": [
    "### B-Exploration des données"
   ]
  },
  {
   "cell_type": "markdown",
   "metadata": {},
   "source": [
    "Nombre de document de la collection"
   ]
  },
  {
   "cell_type": "code",
   "execution_count": 6,
   "metadata": {},
   "outputs": [
    {
     "name": "stdout",
     "output_type": "stream",
     "text": [
      "Le Nombre total de ducuments est de : 3361378\n"
     ]
    }
   ],
   "source": [
    "print(f'Le Nombre total de ducuments est de : {nairobi.count_documents({})}')\n"
   ]
  },
  {
   "cell_type": "markdown",
   "metadata": {},
   "source": [
    "Nombre de site distints"
   ]
  },
  {
   "cell_type": "code",
   "execution_count": 7,
   "metadata": {},
   "outputs": [
    {
     "name": "stdout",
     "output_type": "stream",
     "text": [
      "Le Nombre de sites est de : 31\n"
     ]
    }
   ],
   "source": [
    "site= nairobi.distinct(\"metadonnees.location\")\n",
    "print(f'Le Nombre de sites est de : {len(site)}')"
   ]
  },
  {
   "cell_type": "markdown",
   "metadata": {},
   "source": [
    "Analyse géospatiale de chaque site"
   ]
  },
  {
   "cell_type": "code",
   "execution_count": 27,
   "metadata": {},
   "outputs": [],
   "source": [
    "# Extraction des données de  localisation des sites\n",
    "dflo = pd.DataFrame(nairobi.find({},{\"_id\":0,\"metadonnees.lat\":1,\"metadonnees.lon\":1,\"metadonnees.location\":1}))\n",
    "dflo = pd.DataFrame(dflo['metadonnees'].values.tolist(),index=dflo.index)\n",
    "#Conversiondes types de données\n",
    "dflo[['lat','lon']]= dflo[['lat','lon']].astype('float64')\n",
    "dflo[['location']]= dflo[['location']].astype('int64')\n",
    "dflocation = dflo.drop_duplicates()\n",
    "#Extraction du nombre d'enregistrement par site\n",
    "#Extraction du nombre d'enregistrement par site\n",
    "site= nairobi.distinct(\"metadonnees.location\")\n",
    "nrbsite = []\n",
    "for i in site: \n",
    "     nrbsite.append(nairobi.count_documents({\"metadonnees.location\":f'{i}'}))\n",
    "\n",
    "dict ={'site':site,'Nombre_enregistrement':nrbsite}\n",
    "df1= pd.DataFrame(dict)\n",
    "df1[['location']]= df1[['site']].astype('int64')\n",
    "df1.drop(columns=['site'],inplace=True)\n",
    "df1= df1.sort_values(by='location')\n",
    "\n",
    "\n",
    "# Fusion des deux dataframes\n",
    "list =df1['Nombre_enregistrement'].to_list()\n",
    "dflocation.insert(3,\"nombre_enregistrements\",list)\n",
    "loc= dflocation[\"location\"].to_list()\n",
    "loc_str =[]\n",
    "for i in loc:\n",
    "    loc_str.append(f\"Site : {i}\")\n",
    "dflocation.insert(3,\"site\",loc_str)\n",
    "dflocation=dflocation.sort_values(by='nombre_enregistrements')\n"
   ]
  },
  {
   "cell_type": "code",
   "execution_count": 28,
   "metadata": {},
   "outputs": [
    {
     "data": {
      "text/html": [
       "<div>\n",
       "<style scoped>\n",
       "    .dataframe tbody tr th:only-of-type {\n",
       "        vertical-align: middle;\n",
       "    }\n",
       "\n",
       "    .dataframe tbody tr th {\n",
       "        vertical-align: top;\n",
       "    }\n",
       "\n",
       "    .dataframe thead th {\n",
       "        text-align: right;\n",
       "    }\n",
       "</style>\n",
       "<table border=\"1\" class=\"dataframe\">\n",
       "  <thead>\n",
       "    <tr style=\"text-align: right;\">\n",
       "      <th></th>\n",
       "      <th>lat</th>\n",
       "      <th>lon</th>\n",
       "      <th>location</th>\n",
       "      <th>site</th>\n",
       "      <th>nombre_enregistrements</th>\n",
       "    </tr>\n",
       "  </thead>\n",
       "  <tbody>\n",
       "    <tr>\n",
       "      <th>700580</th>\n",
       "      <td>-1.251</td>\n",
       "      <td>36.923</td>\n",
       "      <td>49</td>\n",
       "      <td>Site : 49</td>\n",
       "      <td>894</td>\n",
       "    </tr>\n",
       "    <tr>\n",
       "      <th>1592900</th>\n",
       "      <td>-1.316</td>\n",
       "      <td>36.790</td>\n",
       "      <td>52</td>\n",
       "      <td>Site : 52</td>\n",
       "      <td>1754</td>\n",
       "    </tr>\n",
       "    <tr>\n",
       "      <th>276708</th>\n",
       "      <td>-1.293</td>\n",
       "      <td>36.769</td>\n",
       "      <td>40</td>\n",
       "      <td>Site : 40</td>\n",
       "      <td>1850</td>\n",
       "    </tr>\n",
       "    <tr>\n",
       "      <th>1627147</th>\n",
       "      <td>-1.316</td>\n",
       "      <td>36.793</td>\n",
       "      <td>53</td>\n",
       "      <td>Site : 53</td>\n",
       "      <td>3480</td>\n",
       "    </tr>\n",
       "    <tr>\n",
       "      <th>798660</th>\n",
       "      <td>-1.218</td>\n",
       "      <td>36.887</td>\n",
       "      <td>46</td>\n",
       "      <td>Site : 46</td>\n",
       "      <td>14174</td>\n",
       "    </tr>\n",
       "  </tbody>\n",
       "</table>\n",
       "</div>"
      ],
      "text/plain": [
       "           lat     lon  location       site  nombre_enregistrements\n",
       "700580  -1.251  36.923        49  Site : 49                     894\n",
       "1592900 -1.316  36.790        52  Site : 52                    1754\n",
       "276708  -1.293  36.769        40  Site : 40                    1850\n",
       "1627147 -1.316  36.793        53  Site : 53                    3480\n",
       "798660  -1.218  36.887        46  Site : 46                   14174"
      ]
     },
     "execution_count": 28,
     "metadata": {},
     "output_type": "execute_result"
    }
   ],
   "source": [
    "dflocation.head()"
   ]
  },
  {
   "cell_type": "markdown",
   "metadata": {},
   "source": [
    "visualisation ds différents sites sur une carte"
   ]
  },
  {
   "cell_type": "code",
   "execution_count": 38,
   "metadata": {},
   "outputs": [
    {
     "data": {
      "text/html": [
       "<div style=\"width:100%;\"><div style=\"position:relative;width:100%;height:0;padding-bottom:60%;\"><span style=\"color:#565656\">Make this Notebook Trusted to load map: File -> Trust Notebook</span><iframe srcdoc=\"&lt;!DOCTYPE html&gt;\n",
       "&lt;html&gt;\n",
       "&lt;head&gt;\n",
       "    \n",
       "    &lt;meta http-equiv=&quot;content-type&quot; content=&quot;text/html; charset=UTF-8&quot; /&gt;\n",
       "    \n",
       "        &lt;script&gt;\n",
       "            L_NO_TOUCH = false;\n",
       "            L_DISABLE_3D = false;\n",
       "        &lt;/script&gt;\n",
       "    \n",
       "    &lt;style&gt;html, body {width: 100%;height: 100%;margin: 0;padding: 0;}&lt;/style&gt;\n",
       "    &lt;style&gt;#map {position:absolute;top:0;bottom:0;right:0;left:0;}&lt;/style&gt;\n",
       "    &lt;script src=&quot;https://cdn.jsdelivr.net/npm/leaflet@1.9.3/dist/leaflet.js&quot;&gt;&lt;/script&gt;\n",
       "    &lt;script src=&quot;https://code.jquery.com/jquery-3.7.1.min.js&quot;&gt;&lt;/script&gt;\n",
       "    &lt;script src=&quot;https://cdn.jsdelivr.net/npm/bootstrap@5.2.2/dist/js/bootstrap.bundle.min.js&quot;&gt;&lt;/script&gt;\n",
       "    &lt;script src=&quot;https://cdnjs.cloudflare.com/ajax/libs/Leaflet.awesome-markers/2.0.2/leaflet.awesome-markers.js&quot;&gt;&lt;/script&gt;\n",
       "    &lt;link rel=&quot;stylesheet&quot; href=&quot;https://cdn.jsdelivr.net/npm/leaflet@1.9.3/dist/leaflet.css&quot;/&gt;\n",
       "    &lt;link rel=&quot;stylesheet&quot; href=&quot;https://cdn.jsdelivr.net/npm/bootstrap@5.2.2/dist/css/bootstrap.min.css&quot;/&gt;\n",
       "    &lt;link rel=&quot;stylesheet&quot; href=&quot;https://netdna.bootstrapcdn.com/bootstrap/3.0.0/css/bootstrap.min.css&quot;/&gt;\n",
       "    &lt;link rel=&quot;stylesheet&quot; href=&quot;https://cdn.jsdelivr.net/npm/@fortawesome/fontawesome-free@6.2.0/css/all.min.css&quot;/&gt;\n",
       "    &lt;link rel=&quot;stylesheet&quot; href=&quot;https://cdnjs.cloudflare.com/ajax/libs/Leaflet.awesome-markers/2.0.2/leaflet.awesome-markers.css&quot;/&gt;\n",
       "    &lt;link rel=&quot;stylesheet&quot; href=&quot;https://cdn.jsdelivr.net/gh/python-visualization/folium/folium/templates/leaflet.awesome.rotate.min.css&quot;/&gt;\n",
       "    \n",
       "            &lt;meta name=&quot;viewport&quot; content=&quot;width=device-width,\n",
       "                initial-scale=1.0, maximum-scale=1.0, user-scalable=no&quot; /&gt;\n",
       "            &lt;style&gt;\n",
       "                #map_66a963df3fe16b835024ee0fe596f5d3 {\n",
       "                    position: relative;\n",
       "                    width: 100.0%;\n",
       "                    height: 100.0%;\n",
       "                    left: 0.0%;\n",
       "                    top: 0.0%;\n",
       "                }\n",
       "                .leaflet-container { font-size: 1rem; }\n",
       "            &lt;/style&gt;\n",
       "        \n",
       "&lt;/head&gt;\n",
       "&lt;body&gt;\n",
       "    \n",
       "    \n",
       "            &lt;div class=&quot;folium-map&quot; id=&quot;map_66a963df3fe16b835024ee0fe596f5d3&quot; &gt;&lt;/div&gt;\n",
       "        \n",
       "&lt;/body&gt;\n",
       "&lt;script&gt;\n",
       "    \n",
       "    \n",
       "            var map_66a963df3fe16b835024ee0fe596f5d3 = L.map(\n",
       "                &quot;map_66a963df3fe16b835024ee0fe596f5d3&quot;,\n",
       "                {\n",
       "                    center: [-1.2, 36.658],\n",
       "                    crs: L.CRS.EPSG3857,\n",
       "                    zoom: 11,\n",
       "                    zoomControl: true,\n",
       "                    preferCanvas: false,\n",
       "                }\n",
       "            );\n",
       "\n",
       "            \n",
       "\n",
       "        \n",
       "    \n",
       "            var tile_layer_04aa0a059a462a2192398e681b074521 = L.tileLayer(\n",
       "                &quot;https://tile.openstreetmap.org/{z}/{x}/{y}.png&quot;,\n",
       "                {&quot;attribution&quot;: &quot;\\u0026copy; \\u003ca href=\\&quot;https://www.openstreetmap.org/copyright\\&quot;\\u003eOpenStreetMap\\u003c/a\\u003e contributors&quot;, &quot;detectRetina&quot;: false, &quot;maxNativeZoom&quot;: 19, &quot;maxZoom&quot;: 19, &quot;minZoom&quot;: 0, &quot;noWrap&quot;: false, &quot;opacity&quot;: 1, &quot;subdomains&quot;: &quot;abc&quot;, &quot;tms&quot;: false}\n",
       "            );\n",
       "        \n",
       "    \n",
       "            tile_layer_04aa0a059a462a2192398e681b074521.addTo(map_66a963df3fe16b835024ee0fe596f5d3);\n",
       "        \n",
       "    \n",
       "            var marker_adc3d2365e57aa95424b3836ebd1aa98 = L.marker(\n",
       "                [-1.251, 36.923],\n",
       "                {}\n",
       "            ).addTo(map_66a963df3fe16b835024ee0fe596f5d3);\n",
       "        \n",
       "    \n",
       "        var popup_4922f4d0f6bdd3e9e685aac07b4db692 = L.popup({&quot;maxWidth&quot;: &quot;100%&quot;});\n",
       "\n",
       "        \n",
       "            \n",
       "                var html_2b64087308447d7483300af129f93341 = $(`&lt;div id=&quot;html_2b64087308447d7483300af129f93341&quot; style=&quot;width: 100.0%; height: 100.0%;&quot;&gt;49&lt;/div&gt;`)[0];\n",
       "                popup_4922f4d0f6bdd3e9e685aac07b4db692.setContent(html_2b64087308447d7483300af129f93341);\n",
       "            \n",
       "        \n",
       "\n",
       "        marker_adc3d2365e57aa95424b3836ebd1aa98.bindPopup(popup_4922f4d0f6bdd3e9e685aac07b4db692)\n",
       "        ;\n",
       "\n",
       "        \n",
       "    \n",
       "    \n",
       "            marker_adc3d2365e57aa95424b3836ebd1aa98.bindTooltip(\n",
       "                `&lt;div&gt;\n",
       "                      Site : 49; Enregistrement:894\n",
       "                 &lt;/div&gt;`,\n",
       "                {&quot;sticky&quot;: true}\n",
       "            );\n",
       "        \n",
       "    \n",
       "            var marker_93d73365140b8d088ce181b7f3b574c0 = L.marker(\n",
       "                [-1.316, 36.79],\n",
       "                {}\n",
       "            ).addTo(map_66a963df3fe16b835024ee0fe596f5d3);\n",
       "        \n",
       "    \n",
       "        var popup_fb81568ed8ac00238780311c56191bdd = L.popup({&quot;maxWidth&quot;: &quot;100%&quot;});\n",
       "\n",
       "        \n",
       "            \n",
       "                var html_4d0f8270216da6366a4c97fed3b39756 = $(`&lt;div id=&quot;html_4d0f8270216da6366a4c97fed3b39756&quot; style=&quot;width: 100.0%; height: 100.0%;&quot;&gt;52&lt;/div&gt;`)[0];\n",
       "                popup_fb81568ed8ac00238780311c56191bdd.setContent(html_4d0f8270216da6366a4c97fed3b39756);\n",
       "            \n",
       "        \n",
       "\n",
       "        marker_93d73365140b8d088ce181b7f3b574c0.bindPopup(popup_fb81568ed8ac00238780311c56191bdd)\n",
       "        ;\n",
       "\n",
       "        \n",
       "    \n",
       "    \n",
       "            marker_93d73365140b8d088ce181b7f3b574c0.bindTooltip(\n",
       "                `&lt;div&gt;\n",
       "                      Site : 52; Enregistrement:1754\n",
       "                 &lt;/div&gt;`,\n",
       "                {&quot;sticky&quot;: true}\n",
       "            );\n",
       "        \n",
       "    \n",
       "            var marker_f629fc2866254629484a67777a193f6d = L.marker(\n",
       "                [-1.293, 36.769],\n",
       "                {}\n",
       "            ).addTo(map_66a963df3fe16b835024ee0fe596f5d3);\n",
       "        \n",
       "    \n",
       "        var popup_1a9673a4fd973a03d3c9cd6b4137e402 = L.popup({&quot;maxWidth&quot;: &quot;100%&quot;});\n",
       "\n",
       "        \n",
       "            \n",
       "                var html_9897466aeb032339513046596e5e0023 = $(`&lt;div id=&quot;html_9897466aeb032339513046596e5e0023&quot; style=&quot;width: 100.0%; height: 100.0%;&quot;&gt;40&lt;/div&gt;`)[0];\n",
       "                popup_1a9673a4fd973a03d3c9cd6b4137e402.setContent(html_9897466aeb032339513046596e5e0023);\n",
       "            \n",
       "        \n",
       "\n",
       "        marker_f629fc2866254629484a67777a193f6d.bindPopup(popup_1a9673a4fd973a03d3c9cd6b4137e402)\n",
       "        ;\n",
       "\n",
       "        \n",
       "    \n",
       "    \n",
       "            marker_f629fc2866254629484a67777a193f6d.bindTooltip(\n",
       "                `&lt;div&gt;\n",
       "                      Site : 40; Enregistrement:1850\n",
       "                 &lt;/div&gt;`,\n",
       "                {&quot;sticky&quot;: true}\n",
       "            );\n",
       "        \n",
       "    \n",
       "            var marker_04e03141b64d08db0cd5838b0505dc23 = L.marker(\n",
       "                [-1.316, 36.793],\n",
       "                {}\n",
       "            ).addTo(map_66a963df3fe16b835024ee0fe596f5d3);\n",
       "        \n",
       "    \n",
       "        var popup_6bb3e49d0e8908a2e773ab8f8fa66ef0 = L.popup({&quot;maxWidth&quot;: &quot;100%&quot;});\n",
       "\n",
       "        \n",
       "            \n",
       "                var html_df01bdf932871c082d73a986e37f2755 = $(`&lt;div id=&quot;html_df01bdf932871c082d73a986e37f2755&quot; style=&quot;width: 100.0%; height: 100.0%;&quot;&gt;53&lt;/div&gt;`)[0];\n",
       "                popup_6bb3e49d0e8908a2e773ab8f8fa66ef0.setContent(html_df01bdf932871c082d73a986e37f2755);\n",
       "            \n",
       "        \n",
       "\n",
       "        marker_04e03141b64d08db0cd5838b0505dc23.bindPopup(popup_6bb3e49d0e8908a2e773ab8f8fa66ef0)\n",
       "        ;\n",
       "\n",
       "        \n",
       "    \n",
       "    \n",
       "            marker_04e03141b64d08db0cd5838b0505dc23.bindTooltip(\n",
       "                `&lt;div&gt;\n",
       "                      Site : 53; Enregistrement:3480\n",
       "                 &lt;/div&gt;`,\n",
       "                {&quot;sticky&quot;: true}\n",
       "            );\n",
       "        \n",
       "    \n",
       "            var marker_ea8daba58693a0ec8bf2bfa9350c6edc = L.marker(\n",
       "                [-1.218, 36.887],\n",
       "                {}\n",
       "            ).addTo(map_66a963df3fe16b835024ee0fe596f5d3);\n",
       "        \n",
       "    \n",
       "        var popup_5234d3a9a55383e13d2348afe5f03a47 = L.popup({&quot;maxWidth&quot;: &quot;100%&quot;});\n",
       "\n",
       "        \n",
       "            \n",
       "                var html_2d269ec4791059e95605c66fbc8adb55 = $(`&lt;div id=&quot;html_2d269ec4791059e95605c66fbc8adb55&quot; style=&quot;width: 100.0%; height: 100.0%;&quot;&gt;46&lt;/div&gt;`)[0];\n",
       "                popup_5234d3a9a55383e13d2348afe5f03a47.setContent(html_2d269ec4791059e95605c66fbc8adb55);\n",
       "            \n",
       "        \n",
       "\n",
       "        marker_ea8daba58693a0ec8bf2bfa9350c6edc.bindPopup(popup_5234d3a9a55383e13d2348afe5f03a47)\n",
       "        ;\n",
       "\n",
       "        \n",
       "    \n",
       "    \n",
       "            marker_ea8daba58693a0ec8bf2bfa9350c6edc.bindTooltip(\n",
       "                `&lt;div&gt;\n",
       "                      Site : 46; Enregistrement:14174\n",
       "                 &lt;/div&gt;`,\n",
       "                {&quot;sticky&quot;: true}\n",
       "            );\n",
       "        \n",
       "    \n",
       "            var marker_f9dfc17a41db17cc1f76f6a1efc44eab = L.marker(\n",
       "                [-1.301, 36.754],\n",
       "                {}\n",
       "            ).addTo(map_66a963df3fe16b835024ee0fe596f5d3);\n",
       "        \n",
       "    \n",
       "        var popup_f91967c552935fe12d5917e3b021cec1 = L.popup({&quot;maxWidth&quot;: &quot;100%&quot;});\n",
       "\n",
       "        \n",
       "            \n",
       "                var html_757730bb4ba9aadac2123cd653e71fa8 = $(`&lt;div id=&quot;html_757730bb4ba9aadac2123cd653e71fa8&quot; style=&quot;width: 100.0%; height: 100.0%;&quot;&gt;25&lt;/div&gt;`)[0];\n",
       "                popup_f91967c552935fe12d5917e3b021cec1.setContent(html_757730bb4ba9aadac2123cd653e71fa8);\n",
       "            \n",
       "        \n",
       "\n",
       "        marker_f9dfc17a41db17cc1f76f6a1efc44eab.bindPopup(popup_f91967c552935fe12d5917e3b021cec1)\n",
       "        ;\n",
       "\n",
       "        \n",
       "    \n",
       "    \n",
       "            marker_f9dfc17a41db17cc1f76f6a1efc44eab.bindTooltip(\n",
       "                `&lt;div&gt;\n",
       "                      Site : 25; Enregistrement:17770\n",
       "                 &lt;/div&gt;`,\n",
       "                {&quot;sticky&quot;: true}\n",
       "            );\n",
       "        \n",
       "    \n",
       "            var marker_c802f78e5fbb57e3f0527aa795127cc8 = L.marker(\n",
       "                [-1.297, 36.755],\n",
       "                {}\n",
       "            ).addTo(map_66a963df3fe16b835024ee0fe596f5d3);\n",
       "        \n",
       "    \n",
       "        var popup_3598ea96b607e0cf195e47d31715d93e = L.popup({&quot;maxWidth&quot;: &quot;100%&quot;});\n",
       "\n",
       "        \n",
       "            \n",
       "                var html_7bd2b351c1ce84d2cf6a3fbae51f9192 = $(`&lt;div id=&quot;html_7bd2b351c1ce84d2cf6a3fbae51f9192&quot; style=&quot;width: 100.0%; height: 100.0%;&quot;&gt;55&lt;/div&gt;`)[0];\n",
       "                popup_3598ea96b607e0cf195e47d31715d93e.setContent(html_7bd2b351c1ce84d2cf6a3fbae51f9192);\n",
       "            \n",
       "        \n",
       "\n",
       "        marker_c802f78e5fbb57e3f0527aa795127cc8.bindPopup(popup_3598ea96b607e0cf195e47d31715d93e)\n",
       "        ;\n",
       "\n",
       "        \n",
       "    \n",
       "    \n",
       "            marker_c802f78e5fbb57e3f0527aa795127cc8.bindTooltip(\n",
       "                `&lt;div&gt;\n",
       "                      Site : 55; Enregistrement:22904\n",
       "                 &lt;/div&gt;`,\n",
       "                {&quot;sticky&quot;: true}\n",
       "            );\n",
       "        \n",
       "    \n",
       "            var marker_73e7cb2c255fd1864d2ce5bd690d66a9 = L.marker(\n",
       "                [-1.306, 36.733],\n",
       "                {}\n",
       "            ).addTo(map_66a963df3fe16b835024ee0fe596f5d3);\n",
       "        \n",
       "    \n",
       "        var popup_b62c4aa597f4c78f938b6028aa08ebe5 = L.popup({&quot;maxWidth&quot;: &quot;100%&quot;});\n",
       "\n",
       "        \n",
       "            \n",
       "                var html_fc29dfc8f6cc5559508908c344289891 = $(`&lt;div id=&quot;html_fc29dfc8f6cc5559508908c344289891&quot; style=&quot;width: 100.0%; height: 100.0%;&quot;&gt;8&lt;/div&gt;`)[0];\n",
       "                popup_b62c4aa597f4c78f938b6028aa08ebe5.setContent(html_fc29dfc8f6cc5559508908c344289891);\n",
       "            \n",
       "        \n",
       "\n",
       "        marker_73e7cb2c255fd1864d2ce5bd690d66a9.bindPopup(popup_b62c4aa597f4c78f938b6028aa08ebe5)\n",
       "        ;\n",
       "\n",
       "        \n",
       "    \n",
       "    \n",
       "            marker_73e7cb2c255fd1864d2ce5bd690d66a9.bindTooltip(\n",
       "                `&lt;div&gt;\n",
       "                      Site : 8; Enregistrement:32348\n",
       "                 &lt;/div&gt;`,\n",
       "                {&quot;sticky&quot;: true}\n",
       "            );\n",
       "        \n",
       "    \n",
       "            var marker_b6b60532808cd208b70844b243c31203 = L.marker(\n",
       "                [-1.22, 36.879],\n",
       "                {}\n",
       "            ).addTo(map_66a963df3fe16b835024ee0fe596f5d3);\n",
       "        \n",
       "    \n",
       "        var popup_be092693f447f7463d034a46360654e2 = L.popup({&quot;maxWidth&quot;: &quot;100%&quot;});\n",
       "\n",
       "        \n",
       "            \n",
       "                var html_64a494321f28898cb56fb8b91eb63f4a = $(`&lt;div id=&quot;html_64a494321f28898cb56fb8b91eb63f4a&quot; style=&quot;width: 100.0%; height: 100.0%;&quot;&gt;43&lt;/div&gt;`)[0];\n",
       "                popup_be092693f447f7463d034a46360654e2.setContent(html_64a494321f28898cb56fb8b91eb63f4a);\n",
       "            \n",
       "        \n",
       "\n",
       "        marker_b6b60532808cd208b70844b243c31203.bindPopup(popup_be092693f447f7463d034a46360654e2)\n",
       "        ;\n",
       "\n",
       "        \n",
       "    \n",
       "    \n",
       "            marker_b6b60532808cd208b70844b243c31203.bindTooltip(\n",
       "                `&lt;div&gt;\n",
       "                      Site : 43; Enregistrement:35172\n",
       "                 &lt;/div&gt;`,\n",
       "                {&quot;sticky&quot;: true}\n",
       "            );\n",
       "        \n",
       "    \n",
       "            var marker_d4316f3b4636f423ce2f5188d84ac572 = L.marker(\n",
       "                [-1.287, 36.811],\n",
       "                {}\n",
       "            ).addTo(map_66a963df3fe16b835024ee0fe596f5d3);\n",
       "        \n",
       "    \n",
       "        var popup_1862bf13889dee2e3894f581ea8d9066 = L.popup({&quot;maxWidth&quot;: &quot;100%&quot;});\n",
       "\n",
       "        \n",
       "            \n",
       "                var html_3af762c36076d33a5dab0a532f964a7d = $(`&lt;div id=&quot;html_3af762c36076d33a5dab0a532f964a7d&quot; style=&quot;width: 100.0%; height: 100.0%;&quot;&gt;21&lt;/div&gt;`)[0];\n",
       "                popup_1862bf13889dee2e3894f581ea8d9066.setContent(html_3af762c36076d33a5dab0a532f964a7d);\n",
       "            \n",
       "        \n",
       "\n",
       "        marker_d4316f3b4636f423ce2f5188d84ac572.bindPopup(popup_1862bf13889dee2e3894f581ea8d9066)\n",
       "        ;\n",
       "\n",
       "        \n",
       "    \n",
       "    \n",
       "            marker_d4316f3b4636f423ce2f5188d84ac572.bindTooltip(\n",
       "                `&lt;div&gt;\n",
       "                      Site : 21; Enregistrement:42660\n",
       "                 &lt;/div&gt;`,\n",
       "                {&quot;sticky&quot;: true}\n",
       "            );\n",
       "        \n",
       "    \n",
       "            var marker_6c5a3ff7b115fe86058486aa5b6d63cf = L.marker(\n",
       "                [-1.259, 36.799],\n",
       "                {}\n",
       "            ).addTo(map_66a963df3fe16b835024ee0fe596f5d3);\n",
       "        \n",
       "    \n",
       "        var popup_69e5cde7c2ed32d45ac3706a2d354c44 = L.popup({&quot;maxWidth&quot;: &quot;100%&quot;});\n",
       "\n",
       "        \n",
       "            \n",
       "                var html_c9098784e2412c1d096f5c51a3ccd7a8 = $(`&lt;div id=&quot;html_c9098784e2412c1d096f5c51a3ccd7a8&quot; style=&quot;width: 100.0%; height: 100.0%;&quot;&gt;6&lt;/div&gt;`)[0];\n",
       "                popup_69e5cde7c2ed32d45ac3706a2d354c44.setContent(html_c9098784e2412c1d096f5c51a3ccd7a8);\n",
       "            \n",
       "        \n",
       "\n",
       "        marker_6c5a3ff7b115fe86058486aa5b6d63cf.bindPopup(popup_69e5cde7c2ed32d45ac3706a2d354c44)\n",
       "        ;\n",
       "\n",
       "        \n",
       "    \n",
       "    \n",
       "            marker_6c5a3ff7b115fe86058486aa5b6d63cf.bindTooltip(\n",
       "                `&lt;div&gt;\n",
       "                      Site : 6; Enregistrement:44064\n",
       "                 &lt;/div&gt;`,\n",
       "                {&quot;sticky&quot;: true}\n",
       "            );\n",
       "        \n",
       "    \n",
       "            var marker_744e9e3b6b414775579a2477c0f44a2e = L.marker(\n",
       "                [-1.235, 36.854],\n",
       "                {}\n",
       "            ).addTo(map_66a963df3fe16b835024ee0fe596f5d3);\n",
       "        \n",
       "    \n",
       "        var popup_25558f71734b7a637d1c6ffd513bae7e = L.popup({&quot;maxWidth&quot;: &quot;100%&quot;});\n",
       "\n",
       "        \n",
       "            \n",
       "                var html_363dacf18c6fd60cfe5e93d107e41ca8 = $(`&lt;div id=&quot;html_363dacf18c6fd60cfe5e93d107e41ca8&quot; style=&quot;width: 100.0%; height: 100.0%;&quot;&gt;51&lt;/div&gt;`)[0];\n",
       "                popup_25558f71734b7a637d1c6ffd513bae7e.setContent(html_363dacf18c6fd60cfe5e93d107e41ca8);\n",
       "            \n",
       "        \n",
       "\n",
       "        marker_744e9e3b6b414775579a2477c0f44a2e.bindPopup(popup_25558f71734b7a637d1c6ffd513bae7e)\n",
       "        ;\n",
       "\n",
       "        \n",
       "    \n",
       "    \n",
       "            marker_744e9e3b6b414775579a2477c0f44a2e.bindTooltip(\n",
       "                `&lt;div&gt;\n",
       "                      Site : 51; Enregistrement:49542\n",
       "                 &lt;/div&gt;`,\n",
       "                {&quot;sticky&quot;: true}\n",
       "            );\n",
       "        \n",
       "    \n",
       "            var marker_b744ff4a4243d92e653f49ffe2551d10 = L.marker(\n",
       "                [-1.316, 36.87],\n",
       "                {}\n",
       "            ).addTo(map_66a963df3fe16b835024ee0fe596f5d3);\n",
       "        \n",
       "    \n",
       "        var popup_9626d5c249f8a26791d2f843ce32ee95 = L.popup({&quot;maxWidth&quot;: &quot;100%&quot;});\n",
       "\n",
       "        \n",
       "            \n",
       "                var html_2f9e25c01c0d965eafeb5534946f00c3 = $(`&lt;div id=&quot;html_2f9e25c01c0d965eafeb5534946f00c3&quot; style=&quot;width: 100.0%; height: 100.0%;&quot;&gt;37&lt;/div&gt;`)[0];\n",
       "                popup_9626d5c249f8a26791d2f843ce32ee95.setContent(html_2f9e25c01c0d965eafeb5534946f00c3);\n",
       "            \n",
       "        \n",
       "\n",
       "        marker_b744ff4a4243d92e653f49ffe2551d10.bindPopup(popup_9626d5c249f8a26791d2f843ce32ee95)\n",
       "        ;\n",
       "\n",
       "        \n",
       "    \n",
       "    \n",
       "            marker_b744ff4a4243d92e653f49ffe2551d10.bindTooltip(\n",
       "                `&lt;div&gt;\n",
       "                      Site : 37; Enregistrement:50694\n",
       "                 &lt;/div&gt;`,\n",
       "                {&quot;sticky&quot;: true}\n",
       "            );\n",
       "        \n",
       "    \n",
       "            var marker_bc6fd5fe77fa3697ae0a4ad68411bdba = L.marker(\n",
       "                [-1.217, 36.776],\n",
       "                {}\n",
       "            ).addTo(map_66a963df3fe16b835024ee0fe596f5d3);\n",
       "        \n",
       "    \n",
       "        var popup_47ee43b7b53b28723e3d4eb76060f826 = L.popup({&quot;maxWidth&quot;: &quot;100%&quot;});\n",
       "\n",
       "        \n",
       "            \n",
       "                var html_125acf46f16407e0fcf4f832d237a8e2 = $(`&lt;div id=&quot;html_125acf46f16407e0fcf4f832d237a8e2&quot; style=&quot;width: 100.0%; height: 100.0%;&quot;&gt;50&lt;/div&gt;`)[0];\n",
       "                popup_47ee43b7b53b28723e3d4eb76060f826.setContent(html_125acf46f16407e0fcf4f832d237a8e2);\n",
       "            \n",
       "        \n",
       "\n",
       "        marker_bc6fd5fe77fa3697ae0a4ad68411bdba.bindPopup(popup_47ee43b7b53b28723e3d4eb76060f826)\n",
       "        ;\n",
       "\n",
       "        \n",
       "    \n",
       "    \n",
       "            marker_bc6fd5fe77fa3697ae0a4ad68411bdba.bindTooltip(\n",
       "                `&lt;div&gt;\n",
       "                      Site : 50; Enregistrement:52700\n",
       "                 &lt;/div&gt;`,\n",
       "                {&quot;sticky&quot;: true}\n",
       "            );\n",
       "        \n",
       "    \n",
       "            var marker_ebf89cd900a0a3507376e96e50017dbb = L.marker(\n",
       "                [-1.26, 36.793],\n",
       "                {}\n",
       "            ).addTo(map_66a963df3fe16b835024ee0fe596f5d3);\n",
       "        \n",
       "    \n",
       "        var popup_e5ee954ec794401c5a962f9bdcd74798 = L.popup({&quot;maxWidth&quot;: &quot;100%&quot;});\n",
       "\n",
       "        \n",
       "            \n",
       "                var html_6bb180ed6486f770cef563d4fec2658a = $(`&lt;div id=&quot;html_6bb180ed6486f770cef563d4fec2658a&quot; style=&quot;width: 100.0%; height: 100.0%;&quot;&gt;32&lt;/div&gt;`)[0];\n",
       "                popup_e5ee954ec794401c5a962f9bdcd74798.setContent(html_6bb180ed6486f770cef563d4fec2658a);\n",
       "            \n",
       "        \n",
       "\n",
       "        marker_ebf89cd900a0a3507376e96e50017dbb.bindPopup(popup_e5ee954ec794401c5a962f9bdcd74798)\n",
       "        ;\n",
       "\n",
       "        \n",
       "    \n",
       "    \n",
       "            marker_ebf89cd900a0a3507376e96e50017dbb.bindTooltip(\n",
       "                `&lt;div&gt;\n",
       "                      Site : 32; Enregistrement:58376\n",
       "                 &lt;/div&gt;`,\n",
       "                {&quot;sticky&quot;: true}\n",
       "            );\n",
       "        \n",
       "    \n",
       "            var marker_85a6b328fd8ab784f77e363ec40d40c8 = L.marker(\n",
       "                [-1.292, 36.821],\n",
       "                {}\n",
       "            ).addTo(map_66a963df3fe16b835024ee0fe596f5d3);\n",
       "        \n",
       "    \n",
       "        var popup_014812f2c5ff1e2127e560c7e7327079 = L.popup({&quot;maxWidth&quot;: &quot;100%&quot;});\n",
       "\n",
       "        \n",
       "            \n",
       "                var html_00900c24d9a2d04e5d6d5ae2cdba65c8 = $(`&lt;div id=&quot;html_00900c24d9a2d04e5d6d5ae2cdba65c8&quot; style=&quot;width: 100.0%; height: 100.0%;&quot;&gt;18&lt;/div&gt;`)[0];\n",
       "                popup_014812f2c5ff1e2127e560c7e7327079.setContent(html_00900c24d9a2d04e5d6d5ae2cdba65c8);\n",
       "            \n",
       "        \n",
       "\n",
       "        marker_85a6b328fd8ab784f77e363ec40d40c8.bindPopup(popup_014812f2c5ff1e2127e560c7e7327079)\n",
       "        ;\n",
       "\n",
       "        \n",
       "    \n",
       "    \n",
       "            marker_85a6b328fd8ab784f77e363ec40d40c8.bindTooltip(\n",
       "                `&lt;div&gt;\n",
       "                      Site : 18; Enregistrement:61732\n",
       "                 &lt;/div&gt;`,\n",
       "                {&quot;sticky&quot;: true}\n",
       "            );\n",
       "        \n",
       "    \n",
       "            var marker_8229125c716fdd23a77e6ce57cd678de = L.marker(\n",
       "                [-1.267, 36.8],\n",
       "                {}\n",
       "            ).addTo(map_66a963df3fe16b835024ee0fe596f5d3);\n",
       "        \n",
       "    \n",
       "        var popup_a9db261c225bfb4a5cfa50a034cd8452 = L.popup({&quot;maxWidth&quot;: &quot;100%&quot;});\n",
       "\n",
       "        \n",
       "            \n",
       "                var html_68e429ca22eb56ff7209602c1bf0d324 = $(`&lt;div id=&quot;html_68e429ca22eb56ff7209602c1bf0d324&quot; style=&quot;width: 100.0%; height: 100.0%;&quot;&gt;44&lt;/div&gt;`)[0];\n",
       "                popup_a9db261c225bfb4a5cfa50a034cd8452.setContent(html_68e429ca22eb56ff7209602c1bf0d324);\n",
       "            \n",
       "        \n",
       "\n",
       "        marker_8229125c716fdd23a77e6ce57cd678de.bindPopup(popup_a9db261c225bfb4a5cfa50a034cd8452)\n",
       "        ;\n",
       "\n",
       "        \n",
       "    \n",
       "    \n",
       "            marker_8229125c716fdd23a77e6ce57cd678de.bindTooltip(\n",
       "                `&lt;div&gt;\n",
       "                      Site : 44; Enregistrement:81532\n",
       "                 &lt;/div&gt;`,\n",
       "                {&quot;sticky&quot;: true}\n",
       "            );\n",
       "        \n",
       "    \n",
       "            var marker_ab4739cbfe171a14bb65bf93c00e9f62 = L.marker(\n",
       "                [-1.255, 36.694],\n",
       "                {}\n",
       "            ).addTo(map_66a963df3fe16b835024ee0fe596f5d3);\n",
       "        \n",
       "    \n",
       "        var popup_3b85bba82bc8169b17bbfd1732824604 = L.popup({&quot;maxWidth&quot;: &quot;100%&quot;});\n",
       "\n",
       "        \n",
       "            \n",
       "                var html_b565c9c89310982beade9286e8ac3d15 = $(`&lt;div id=&quot;html_b565c9c89310982beade9286e8ac3d15&quot; style=&quot;width: 100.0%; height: 100.0%;&quot;&gt;33&lt;/div&gt;`)[0];\n",
       "                popup_3b85bba82bc8169b17bbfd1732824604.setContent(html_b565c9c89310982beade9286e8ac3d15);\n",
       "            \n",
       "        \n",
       "\n",
       "        marker_ab4739cbfe171a14bb65bf93c00e9f62.bindPopup(popup_3b85bba82bc8169b17bbfd1732824604)\n",
       "        ;\n",
       "\n",
       "        \n",
       "    \n",
       "    \n",
       "            marker_ab4739cbfe171a14bb65bf93c00e9f62.bindTooltip(\n",
       "                `&lt;div&gt;\n",
       "                      Site : 33; Enregistrement:98332\n",
       "                 &lt;/div&gt;`,\n",
       "                {&quot;sticky&quot;: true}\n",
       "            );\n",
       "        \n",
       "    \n",
       "            var marker_e3a60ce74e2af464da4db8c4c210e74a = L.marker(\n",
       "                [-1.291, 36.725],\n",
       "                {}\n",
       "            ).addTo(map_66a963df3fe16b835024ee0fe596f5d3);\n",
       "        \n",
       "    \n",
       "        var popup_89be3db257f2943859aa23d211de1beb = L.popup({&quot;maxWidth&quot;: &quot;100%&quot;});\n",
       "\n",
       "        \n",
       "            \n",
       "                var html_ecd313fed6c7586de2b5180ea8deb4b1 = $(`&lt;div id=&quot;html_ecd313fed6c7586de2b5180ea8deb4b1&quot; style=&quot;width: 100.0%; height: 100.0%;&quot;&gt;28&lt;/div&gt;`)[0];\n",
       "                popup_89be3db257f2943859aa23d211de1beb.setContent(html_ecd313fed6c7586de2b5180ea8deb4b1);\n",
       "            \n",
       "        \n",
       "\n",
       "        marker_e3a60ce74e2af464da4db8c4c210e74a.bindPopup(popup_89be3db257f2943859aa23d211de1beb)\n",
       "        ;\n",
       "\n",
       "        \n",
       "    \n",
       "    \n",
       "            marker_e3a60ce74e2af464da4db8c4c210e74a.bindTooltip(\n",
       "                `&lt;div&gt;\n",
       "                      Site : 28; Enregistrement:99914\n",
       "                 &lt;/div&gt;`,\n",
       "                {&quot;sticky&quot;: true}\n",
       "            );\n",
       "        \n",
       "    \n",
       "            var marker_d9166dac6df9e416ad30873fbb1bb0ea = L.marker(\n",
       "                [-1.29, 36.777],\n",
       "                {}\n",
       "            ).addTo(map_66a963df3fe16b835024ee0fe596f5d3);\n",
       "        \n",
       "    \n",
       "        var popup_cd2b099831cfd39d023ecbf0d9ae2b48 = L.popup({&quot;maxWidth&quot;: &quot;100%&quot;});\n",
       "\n",
       "        \n",
       "            \n",
       "                var html_a9967b1499425881c7a635a3f4025f06 = $(`&lt;div id=&quot;html_a9967b1499425881c7a635a3f4025f06&quot; style=&quot;width: 100.0%; height: 100.0%;&quot;&gt;30&lt;/div&gt;`)[0];\n",
       "                popup_cd2b099831cfd39d023ecbf0d9ae2b48.setContent(html_a9967b1499425881c7a635a3f4025f06);\n",
       "            \n",
       "        \n",
       "\n",
       "        marker_d9166dac6df9e416ad30873fbb1bb0ea.bindPopup(popup_cd2b099831cfd39d023ecbf0d9ae2b48)\n",
       "        ;\n",
       "\n",
       "        \n",
       "    \n",
       "    \n",
       "            marker_d9166dac6df9e416ad30873fbb1bb0ea.bindTooltip(\n",
       "                `&lt;div&gt;\n",
       "                      Site : 30; Enregistrement:114704\n",
       "                 &lt;/div&gt;`,\n",
       "                {&quot;sticky&quot;: true}\n",
       "            );\n",
       "        \n",
       "    \n",
       "            var marker_5e6f03a586575e1f51de74f467446a18 = L.marker(\n",
       "                [-1.306, 36.773],\n",
       "                {}\n",
       "            ).addTo(map_66a963df3fe16b835024ee0fe596f5d3);\n",
       "        \n",
       "    \n",
       "        var popup_abd1b68ab952963606acfcee4e643dc7 = L.popup({&quot;maxWidth&quot;: &quot;100%&quot;});\n",
       "\n",
       "        \n",
       "            \n",
       "                var html_7cf42e56cae187916738d38647c1a588 = $(`&lt;div id=&quot;html_7cf42e56cae187916738d38647c1a588&quot; style=&quot;width: 100.0%; height: 100.0%;&quot;&gt;27&lt;/div&gt;`)[0];\n",
       "                popup_abd1b68ab952963606acfcee4e643dc7.setContent(html_7cf42e56cae187916738d38647c1a588);\n",
       "            \n",
       "        \n",
       "\n",
       "        marker_5e6f03a586575e1f51de74f467446a18.bindPopup(popup_abd1b68ab952963606acfcee4e643dc7)\n",
       "        ;\n",
       "\n",
       "        \n",
       "    \n",
       "    \n",
       "            marker_5e6f03a586575e1f51de74f467446a18.bindTooltip(\n",
       "                `&lt;div&gt;\n",
       "                      Site : 27; Enregistrement:127220\n",
       "                 &lt;/div&gt;`,\n",
       "                {&quot;sticky&quot;: true}\n",
       "            );\n",
       "        \n",
       "    \n",
       "            var marker_c23884ad15dc1df4637cc2615b9d412f = L.marker(\n",
       "                [-1.3, 36.785],\n",
       "                {}\n",
       "            ).addTo(map_66a963df3fe16b835024ee0fe596f5d3);\n",
       "        \n",
       "    \n",
       "        var popup_127a5244c9e9b56992d4790d123c0ec0 = L.popup({&quot;maxWidth&quot;: &quot;100%&quot;});\n",
       "\n",
       "        \n",
       "            \n",
       "                var html_cb637177d6004cce44832194ab7db94d = $(`&lt;div id=&quot;html_cb637177d6004cce44832194ab7db94d&quot; style=&quot;width: 100.0%; height: 100.0%;&quot;&gt;29&lt;/div&gt;`)[0];\n",
       "                popup_127a5244c9e9b56992d4790d123c0ec0.setContent(html_cb637177d6004cce44832194ab7db94d);\n",
       "            \n",
       "        \n",
       "\n",
       "        marker_c23884ad15dc1df4637cc2615b9d412f.bindPopup(popup_127a5244c9e9b56992d4790d123c0ec0)\n",
       "        ;\n",
       "\n",
       "        \n",
       "    \n",
       "    \n",
       "            marker_c23884ad15dc1df4637cc2615b9d412f.bindTooltip(\n",
       "                `&lt;div&gt;\n",
       "                      Site : 29; Enregistrement:174524\n",
       "                 &lt;/div&gt;`,\n",
       "                {&quot;sticky&quot;: true}\n",
       "            );\n",
       "        \n",
       "    \n",
       "            var marker_f84600e12edc0bffbd992c6282452cd8 = L.marker(\n",
       "                [-1.297, 36.743],\n",
       "                {}\n",
       "            ).addTo(map_66a963df3fe16b835024ee0fe596f5d3);\n",
       "        \n",
       "    \n",
       "        var popup_df4ab22c5732ae7bcbe2a74c32185700 = L.popup({&quot;maxWidth&quot;: &quot;100%&quot;});\n",
       "\n",
       "        \n",
       "            \n",
       "                var html_f3085288d6547e52bafc64b35562ec04 = $(`&lt;div id=&quot;html_f3085288d6547e52bafc64b35562ec04&quot; style=&quot;width: 100.0%; height: 100.0%;&quot;&gt;35&lt;/div&gt;`)[0];\n",
       "                popup_df4ab22c5732ae7bcbe2a74c32185700.setContent(html_f3085288d6547e52bafc64b35562ec04);\n",
       "            \n",
       "        \n",
       "\n",
       "        marker_f84600e12edc0bffbd992c6282452cd8.bindPopup(popup_df4ab22c5732ae7bcbe2a74c32185700)\n",
       "        ;\n",
       "\n",
       "        \n",
       "    \n",
       "    \n",
       "            marker_f84600e12edc0bffbd992c6282452cd8.bindTooltip(\n",
       "                `&lt;div&gt;\n",
       "                      Site : 35; Enregistrement:174886\n",
       "                 &lt;/div&gt;`,\n",
       "                {&quot;sticky&quot;: true}\n",
       "            );\n",
       "        \n",
       "    \n",
       "            var marker_3857bd40c459811f1da6497c96cff0b4 = L.marker(\n",
       "                [-1.215, 36.862],\n",
       "                {}\n",
       "            ).addTo(map_66a963df3fe16b835024ee0fe596f5d3);\n",
       "        \n",
       "    \n",
       "        var popup_71bb69971b3ce74653b332d0641a2ec5 = L.popup({&quot;maxWidth&quot;: &quot;100%&quot;});\n",
       "\n",
       "        \n",
       "            \n",
       "                var html_69ee2c4de2b71aa3fdabe3b70db97494 = $(`&lt;div id=&quot;html_69ee2c4de2b71aa3fdabe3b70db97494&quot; style=&quot;width: 100.0%; height: 100.0%;&quot;&gt;48&lt;/div&gt;`)[0];\n",
       "                popup_71bb69971b3ce74653b332d0641a2ec5.setContent(html_69ee2c4de2b71aa3fdabe3b70db97494);\n",
       "            \n",
       "        \n",
       "\n",
       "        marker_3857bd40c459811f1da6497c96cff0b4.bindPopup(popup_71bb69971b3ce74653b332d0641a2ec5)\n",
       "        ;\n",
       "\n",
       "        \n",
       "    \n",
       "    \n",
       "            marker_3857bd40c459811f1da6497c96cff0b4.bindTooltip(\n",
       "                `&lt;div&gt;\n",
       "                      Site : 48; Enregistrement:177866\n",
       "                 &lt;/div&gt;`,\n",
       "                {&quot;sticky&quot;: true}\n",
       "            );\n",
       "        \n",
       "    \n",
       "            var marker_ea06f49a588e1385e52818423a7ab972 = L.marker(\n",
       "                [-1.291, 36.781],\n",
       "                {}\n",
       "            ).addTo(map_66a963df3fe16b835024ee0fe596f5d3);\n",
       "        \n",
       "    \n",
       "        var popup_c0f5861295eb97691ef0fd12cb565179 = L.popup({&quot;maxWidth&quot;: &quot;100%&quot;});\n",
       "\n",
       "        \n",
       "            \n",
       "                var html_6f6473afb13784291fbf2a4235461b85 = $(`&lt;div id=&quot;html_6f6473afb13784291fbf2a4235461b85&quot; style=&quot;width: 100.0%; height: 100.0%;&quot;&gt;31&lt;/div&gt;`)[0];\n",
       "                popup_c0f5861295eb97691ef0fd12cb565179.setContent(html_6f6473afb13784291fbf2a4235461b85);\n",
       "            \n",
       "        \n",
       "\n",
       "        marker_ea06f49a588e1385e52818423a7ab972.bindPopup(popup_c0f5861295eb97691ef0fd12cb565179)\n",
       "        ;\n",
       "\n",
       "        \n",
       "    \n",
       "    \n",
       "            marker_ea06f49a588e1385e52818423a7ab972.bindTooltip(\n",
       "                `&lt;div&gt;\n",
       "                      Site : 31; Enregistrement:203406\n",
       "                 &lt;/div&gt;`,\n",
       "                {&quot;sticky&quot;: true}\n",
       "            );\n",
       "        \n",
       "    \n",
       "            var marker_9c4fa95e888fe187a122af4a925f6d59 = L.marker(\n",
       "                [-1.322, 36.797],\n",
       "                {}\n",
       "            ).addTo(map_66a963df3fe16b835024ee0fe596f5d3);\n",
       "        \n",
       "    \n",
       "        var popup_d0a60260f97927d1a2cba9afeb570f3c = L.popup({&quot;maxWidth&quot;: &quot;100%&quot;});\n",
       "\n",
       "        \n",
       "            \n",
       "                var html_78e16f7996d91c2862f62ee26c7b12f4 = $(`&lt;div id=&quot;html_78e16f7996d91c2862f62ee26c7b12f4&quot; style=&quot;width: 100.0%; height: 100.0%;&quot;&gt;41&lt;/div&gt;`)[0];\n",
       "                popup_d0a60260f97927d1a2cba9afeb570f3c.setContent(html_78e16f7996d91c2862f62ee26c7b12f4);\n",
       "            \n",
       "        \n",
       "\n",
       "        marker_9c4fa95e888fe187a122af4a925f6d59.bindPopup(popup_d0a60260f97927d1a2cba9afeb570f3c)\n",
       "        ;\n",
       "\n",
       "        \n",
       "    \n",
       "    \n",
       "            marker_9c4fa95e888fe187a122af4a925f6d59.bindTooltip(\n",
       "                `&lt;div&gt;\n",
       "                      Site : 41; Enregistrement:206250\n",
       "                 &lt;/div&gt;`,\n",
       "                {&quot;sticky&quot;: true}\n",
       "            );\n",
       "        \n",
       "    \n",
       "            var marker_687ce7db2c2aabd09d456717e96f0ca5 = L.marker(\n",
       "                [-1.291, 36.733],\n",
       "                {}\n",
       "            ).addTo(map_66a963df3fe16b835024ee0fe596f5d3);\n",
       "        \n",
       "    \n",
       "        var popup_d0080c92c523af8c6977c93d3fc5659a = L.popup({&quot;maxWidth&quot;: &quot;100%&quot;});\n",
       "\n",
       "        \n",
       "            \n",
       "                var html_02ffb133ce8cacd21af156bb29c1c243 = $(`&lt;div id=&quot;html_02ffb133ce8cacd21af156bb29c1c243&quot; style=&quot;width: 100.0%; height: 100.0%;&quot;&gt;36&lt;/div&gt;`)[0];\n",
       "                popup_d0080c92c523af8c6977c93d3fc5659a.setContent(html_02ffb133ce8cacd21af156bb29c1c243);\n",
       "            \n",
       "        \n",
       "\n",
       "        marker_687ce7db2c2aabd09d456717e96f0ca5.bindPopup(popup_d0080c92c523af8c6977c93d3fc5659a)\n",
       "        ;\n",
       "\n",
       "        \n",
       "    \n",
       "    \n",
       "            marker_687ce7db2c2aabd09d456717e96f0ca5.bindTooltip(\n",
       "                `&lt;div&gt;\n",
       "                      Site : 36; Enregistrement:213188\n",
       "                 &lt;/div&gt;`,\n",
       "                {&quot;sticky&quot;: true}\n",
       "            );\n",
       "        \n",
       "    \n",
       "            var marker_4c572a3c555fc175cfa690ebe75880b6 = L.marker(\n",
       "                [-1.207, 36.658],\n",
       "                {}\n",
       "            ).addTo(map_66a963df3fe16b835024ee0fe596f5d3);\n",
       "        \n",
       "    \n",
       "        var popup_54c5e90156f159438df17390ce056010 = L.popup({&quot;maxWidth&quot;: &quot;100%&quot;});\n",
       "\n",
       "        \n",
       "            \n",
       "                var html_8d72dad1d8dd4272a55069862bea6f64 = $(`&lt;div id=&quot;html_8d72dad1d8dd4272a55069862bea6f64&quot; style=&quot;width: 100.0%; height: 100.0%;&quot;&gt;38&lt;/div&gt;`)[0];\n",
       "                popup_54c5e90156f159438df17390ce056010.setContent(html_8d72dad1d8dd4272a55069862bea6f64);\n",
       "            \n",
       "        \n",
       "\n",
       "        marker_4c572a3c555fc175cfa690ebe75880b6.bindPopup(popup_54c5e90156f159438df17390ce056010)\n",
       "        ;\n",
       "\n",
       "        \n",
       "    \n",
       "    \n",
       "            marker_4c572a3c555fc175cfa690ebe75880b6.bindTooltip(\n",
       "                `&lt;div&gt;\n",
       "                      Site : 38; Enregistrement:213344\n",
       "                 &lt;/div&gt;`,\n",
       "                {&quot;sticky&quot;: true}\n",
       "            );\n",
       "        \n",
       "    \n",
       "            var marker_8acc411de6c3aa37e8258ac87aeceb53 = L.marker(\n",
       "                [-1.206, 36.781],\n",
       "                {}\n",
       "            ).addTo(map_66a963df3fe16b835024ee0fe596f5d3);\n",
       "        \n",
       "    \n",
       "        var popup_c4da96187d5d2cf140f4908d86aa9932 = L.popup({&quot;maxWidth&quot;: &quot;100%&quot;});\n",
       "\n",
       "        \n",
       "            \n",
       "                var html_968c26d3b1cf35dccf9314cf72e5fb6a = $(`&lt;div id=&quot;html_968c26d3b1cf35dccf9314cf72e5fb6a&quot; style=&quot;width: 100.0%; height: 100.0%;&quot;&gt;34&lt;/div&gt;`)[0];\n",
       "                popup_c4da96187d5d2cf140f4908d86aa9932.setContent(html_968c26d3b1cf35dccf9314cf72e5fb6a);\n",
       "            \n",
       "        \n",
       "\n",
       "        marker_8acc411de6c3aa37e8258ac87aeceb53.bindPopup(popup_c4da96187d5d2cf140f4908d86aa9932)\n",
       "        ;\n",
       "\n",
       "        \n",
       "    \n",
       "    \n",
       "            marker_8acc411de6c3aa37e8258ac87aeceb53.bindTooltip(\n",
       "                `&lt;div&gt;\n",
       "                      Site : 34; Enregistrement:261424\n",
       "                 &lt;/div&gt;`,\n",
       "                {&quot;sticky&quot;: true}\n",
       "            );\n",
       "        \n",
       "    \n",
       "            var marker_04a03b4d1e52b7f7013e99bcb0642de2 = L.marker(\n",
       "                [-1.32, 36.885],\n",
       "                {}\n",
       "            ).addTo(map_66a963df3fe16b835024ee0fe596f5d3);\n",
       "        \n",
       "    \n",
       "        var popup_0c9f3dc5bac7c907adcf08b47b38b257 = L.popup({&quot;maxWidth&quot;: &quot;100%&quot;});\n",
       "\n",
       "        \n",
       "            \n",
       "                var html_26162298efcca203dc98b5dc755b2330 = $(`&lt;div id=&quot;html_26162298efcca203dc98b5dc755b2330&quot; style=&quot;width: 100.0%; height: 100.0%;&quot;&gt;26&lt;/div&gt;`)[0];\n",
       "                popup_0c9f3dc5bac7c907adcf08b47b38b257.setContent(html_26162298efcca203dc98b5dc755b2330);\n",
       "            \n",
       "        \n",
       "\n",
       "        marker_04a03b4d1e52b7f7013e99bcb0642de2.bindPopup(popup_0c9f3dc5bac7c907adcf08b47b38b257)\n",
       "        ;\n",
       "\n",
       "        \n",
       "    \n",
       "    \n",
       "            marker_04a03b4d1e52b7f7013e99bcb0642de2.bindTooltip(\n",
       "                `&lt;div&gt;\n",
       "                      Site : 26; Enregistrement:263702\n",
       "                 &lt;/div&gt;`,\n",
       "                {&quot;sticky&quot;: true}\n",
       "            );\n",
       "        \n",
       "    \n",
       "            var marker_90dd0795ab5ff7622e09faac3bcb8dd0 = L.marker(\n",
       "                [-1.298, 36.791],\n",
       "                {}\n",
       "            ).addTo(map_66a963df3fe16b835024ee0fe596f5d3);\n",
       "        \n",
       "    \n",
       "        var popup_2d032f511fbf6414955418c936268979 = L.popup({&quot;maxWidth&quot;: &quot;100%&quot;});\n",
       "\n",
       "        \n",
       "            \n",
       "                var html_488d76bbc4743f8157599593dcdae6e7 = $(`&lt;div id=&quot;html_488d76bbc4743f8157599593dcdae6e7&quot; style=&quot;width: 100.0%; height: 100.0%;&quot;&gt;7&lt;/div&gt;`)[0];\n",
       "                popup_2d032f511fbf6414955418c936268979.setContent(html_488d76bbc4743f8157599593dcdae6e7);\n",
       "            \n",
       "        \n",
       "\n",
       "        marker_90dd0795ab5ff7622e09faac3bcb8dd0.bindPopup(popup_2d032f511fbf6414955418c936268979)\n",
       "        ;\n",
       "\n",
       "        \n",
       "    \n",
       "    \n",
       "            marker_90dd0795ab5ff7622e09faac3bcb8dd0.bindTooltip(\n",
       "                `&lt;div&gt;\n",
       "                      Site : 7; Enregistrement:460972\n",
       "                 &lt;/div&gt;`,\n",
       "                {&quot;sticky&quot;: true}\n",
       "            );\n",
       "        \n",
       "&lt;/script&gt;\n",
       "&lt;/html&gt;\" style=\"position:absolute;width:100%;height:100%;left:0;top:0;border:none !important;\" allowfullscreen webkitallowfullscreen mozallowfullscreen></iframe></div></div>"
      ],
      "text/plain": [
       "<folium.folium.Map at 0x21681800b50>"
      ]
     },
     "execution_count": 38,
     "metadata": {},
     "output_type": "execute_result"
    }
   ],
   "source": [
    "\n",
    "\n",
    "delhi_map_with_line_tooltip = folium.Map(location=[-1.200, 36.658], zoom_start=11)\n",
    "\n",
    "for index, row in dflocation.iterrows():\n",
    "    folium.Marker(\n",
    "        location=[row['lat'], row['lon']],\n",
    "        popup=f\"{row['location']}\",\n",
    "        tooltip=f\" {row['site']}; Enregistrement:{row['nombre_enregistrements']}\",\n",
    "        #icon=dflocation.Icon(color=color)\n",
    "    ).add_to(delhi_map_with_line_tooltip)\n",
    "delhi_map_with_line_tooltip"
   ]
  },
  {
   "cell_type": "markdown",
   "metadata": {},
   "source": [
    "La carte nous permet de visualiser la position de de chaque Site . En posant la souris sur uen position nous pouvons lire le numéro du site ainsi ue nombre d'enregistrement de ce site"
   ]
  },
  {
   "cell_type": "code",
   "execution_count": 30,
   "metadata": {},
   "outputs": [
    {
     "data": {
      "application/vnd.plotly.v1+json": {
       "config": {
        "plotlyServerURL": "https://plot.ly"
       },
       "data": [
        {
         "alignmentgroup": "True",
         "cliponaxis": false,
         "hovertemplate": "site=%{x}<br>Nombre d'enregistrements=%{y}<extra></extra>",
         "legendgroup": "",
         "marker": {
          "color": "#636efa",
          "pattern": {
           "shape": ""
          }
         },
         "name": "",
         "offsetgroup": "",
         "orientation": "v",
         "showlegend": false,
         "textangle": 0,
         "textfont": {
          "size": 12
         },
         "textposition": "outside",
         "texttemplate": "%{y:.2s}",
         "type": "bar",
         "x": [
          "Site : 49",
          "Site : 52",
          "Site : 40",
          "Site : 53",
          "Site : 46",
          "Site : 25",
          "Site : 55",
          "Site : 8",
          "Site : 43",
          "Site : 21",
          "Site : 6",
          "Site : 51",
          "Site : 37",
          "Site : 50",
          "Site : 32",
          "Site : 18",
          "Site : 44",
          "Site : 33",
          "Site : 28",
          "Site : 30",
          "Site : 27",
          "Site : 29",
          "Site : 35",
          "Site : 48",
          "Site : 31",
          "Site : 41",
          "Site : 36",
          "Site : 38",
          "Site : 34",
          "Site : 26",
          "Site : 7"
         ],
         "xaxis": "x",
         "y": [
          894,
          1754,
          1850,
          3480,
          14174,
          17770,
          22904,
          32348,
          35172,
          42660,
          44064,
          49542,
          50694,
          52700,
          58376,
          61732,
          81532,
          98332,
          99914,
          114704,
          127220,
          174524,
          174886,
          177866,
          203406,
          206250,
          213188,
          213344,
          261424,
          263702,
          460972
         ],
         "yaxis": "y"
        }
       ],
       "layout": {
        "barmode": "relative",
        "legend": {
         "tracegroupgap": 0
        },
        "template": {
         "data": {
          "bar": [
           {
            "error_x": {
             "color": "#2a3f5f"
            },
            "error_y": {
             "color": "#2a3f5f"
            },
            "marker": {
             "line": {
              "color": "white",
              "width": 0.5
             },
             "pattern": {
              "fillmode": "overlay",
              "size": 10,
              "solidity": 0.2
             }
            },
            "type": "bar"
           }
          ],
          "barpolar": [
           {
            "marker": {
             "line": {
              "color": "white",
              "width": 0.5
             },
             "pattern": {
              "fillmode": "overlay",
              "size": 10,
              "solidity": 0.2
             }
            },
            "type": "barpolar"
           }
          ],
          "carpet": [
           {
            "aaxis": {
             "endlinecolor": "#2a3f5f",
             "gridcolor": "#C8D4E3",
             "linecolor": "#C8D4E3",
             "minorgridcolor": "#C8D4E3",
             "startlinecolor": "#2a3f5f"
            },
            "baxis": {
             "endlinecolor": "#2a3f5f",
             "gridcolor": "#C8D4E3",
             "linecolor": "#C8D4E3",
             "minorgridcolor": "#C8D4E3",
             "startlinecolor": "#2a3f5f"
            },
            "type": "carpet"
           }
          ],
          "choropleth": [
           {
            "colorbar": {
             "outlinewidth": 0,
             "ticks": ""
            },
            "type": "choropleth"
           }
          ],
          "contour": [
           {
            "colorbar": {
             "outlinewidth": 0,
             "ticks": ""
            },
            "colorscale": [
             [
              0,
              "#0d0887"
             ],
             [
              0.1111111111111111,
              "#46039f"
             ],
             [
              0.2222222222222222,
              "#7201a8"
             ],
             [
              0.3333333333333333,
              "#9c179e"
             ],
             [
              0.4444444444444444,
              "#bd3786"
             ],
             [
              0.5555555555555556,
              "#d8576b"
             ],
             [
              0.6666666666666666,
              "#ed7953"
             ],
             [
              0.7777777777777778,
              "#fb9f3a"
             ],
             [
              0.8888888888888888,
              "#fdca26"
             ],
             [
              1,
              "#f0f921"
             ]
            ],
            "type": "contour"
           }
          ],
          "contourcarpet": [
           {
            "colorbar": {
             "outlinewidth": 0,
             "ticks": ""
            },
            "type": "contourcarpet"
           }
          ],
          "heatmap": [
           {
            "colorbar": {
             "outlinewidth": 0,
             "ticks": ""
            },
            "colorscale": [
             [
              0,
              "#0d0887"
             ],
             [
              0.1111111111111111,
              "#46039f"
             ],
             [
              0.2222222222222222,
              "#7201a8"
             ],
             [
              0.3333333333333333,
              "#9c179e"
             ],
             [
              0.4444444444444444,
              "#bd3786"
             ],
             [
              0.5555555555555556,
              "#d8576b"
             ],
             [
              0.6666666666666666,
              "#ed7953"
             ],
             [
              0.7777777777777778,
              "#fb9f3a"
             ],
             [
              0.8888888888888888,
              "#fdca26"
             ],
             [
              1,
              "#f0f921"
             ]
            ],
            "type": "heatmap"
           }
          ],
          "heatmapgl": [
           {
            "colorbar": {
             "outlinewidth": 0,
             "ticks": ""
            },
            "colorscale": [
             [
              0,
              "#0d0887"
             ],
             [
              0.1111111111111111,
              "#46039f"
             ],
             [
              0.2222222222222222,
              "#7201a8"
             ],
             [
              0.3333333333333333,
              "#9c179e"
             ],
             [
              0.4444444444444444,
              "#bd3786"
             ],
             [
              0.5555555555555556,
              "#d8576b"
             ],
             [
              0.6666666666666666,
              "#ed7953"
             ],
             [
              0.7777777777777778,
              "#fb9f3a"
             ],
             [
              0.8888888888888888,
              "#fdca26"
             ],
             [
              1,
              "#f0f921"
             ]
            ],
            "type": "heatmapgl"
           }
          ],
          "histogram": [
           {
            "marker": {
             "pattern": {
              "fillmode": "overlay",
              "size": 10,
              "solidity": 0.2
             }
            },
            "type": "histogram"
           }
          ],
          "histogram2d": [
           {
            "colorbar": {
             "outlinewidth": 0,
             "ticks": ""
            },
            "colorscale": [
             [
              0,
              "#0d0887"
             ],
             [
              0.1111111111111111,
              "#46039f"
             ],
             [
              0.2222222222222222,
              "#7201a8"
             ],
             [
              0.3333333333333333,
              "#9c179e"
             ],
             [
              0.4444444444444444,
              "#bd3786"
             ],
             [
              0.5555555555555556,
              "#d8576b"
             ],
             [
              0.6666666666666666,
              "#ed7953"
             ],
             [
              0.7777777777777778,
              "#fb9f3a"
             ],
             [
              0.8888888888888888,
              "#fdca26"
             ],
             [
              1,
              "#f0f921"
             ]
            ],
            "type": "histogram2d"
           }
          ],
          "histogram2dcontour": [
           {
            "colorbar": {
             "outlinewidth": 0,
             "ticks": ""
            },
            "colorscale": [
             [
              0,
              "#0d0887"
             ],
             [
              0.1111111111111111,
              "#46039f"
             ],
             [
              0.2222222222222222,
              "#7201a8"
             ],
             [
              0.3333333333333333,
              "#9c179e"
             ],
             [
              0.4444444444444444,
              "#bd3786"
             ],
             [
              0.5555555555555556,
              "#d8576b"
             ],
             [
              0.6666666666666666,
              "#ed7953"
             ],
             [
              0.7777777777777778,
              "#fb9f3a"
             ],
             [
              0.8888888888888888,
              "#fdca26"
             ],
             [
              1,
              "#f0f921"
             ]
            ],
            "type": "histogram2dcontour"
           }
          ],
          "mesh3d": [
           {
            "colorbar": {
             "outlinewidth": 0,
             "ticks": ""
            },
            "type": "mesh3d"
           }
          ],
          "parcoords": [
           {
            "line": {
             "colorbar": {
              "outlinewidth": 0,
              "ticks": ""
             }
            },
            "type": "parcoords"
           }
          ],
          "pie": [
           {
            "automargin": true,
            "type": "pie"
           }
          ],
          "scatter": [
           {
            "fillpattern": {
             "fillmode": "overlay",
             "size": 10,
             "solidity": 0.2
            },
            "type": "scatter"
           }
          ],
          "scatter3d": [
           {
            "line": {
             "colorbar": {
              "outlinewidth": 0,
              "ticks": ""
             }
            },
            "marker": {
             "colorbar": {
              "outlinewidth": 0,
              "ticks": ""
             }
            },
            "type": "scatter3d"
           }
          ],
          "scattercarpet": [
           {
            "marker": {
             "colorbar": {
              "outlinewidth": 0,
              "ticks": ""
             }
            },
            "type": "scattercarpet"
           }
          ],
          "scattergeo": [
           {
            "marker": {
             "colorbar": {
              "outlinewidth": 0,
              "ticks": ""
             }
            },
            "type": "scattergeo"
           }
          ],
          "scattergl": [
           {
            "marker": {
             "colorbar": {
              "outlinewidth": 0,
              "ticks": ""
             }
            },
            "type": "scattergl"
           }
          ],
          "scattermapbox": [
           {
            "marker": {
             "colorbar": {
              "outlinewidth": 0,
              "ticks": ""
             }
            },
            "type": "scattermapbox"
           }
          ],
          "scatterpolar": [
           {
            "marker": {
             "colorbar": {
              "outlinewidth": 0,
              "ticks": ""
             }
            },
            "type": "scatterpolar"
           }
          ],
          "scatterpolargl": [
           {
            "marker": {
             "colorbar": {
              "outlinewidth": 0,
              "ticks": ""
             }
            },
            "type": "scatterpolargl"
           }
          ],
          "scatterternary": [
           {
            "marker": {
             "colorbar": {
              "outlinewidth": 0,
              "ticks": ""
             }
            },
            "type": "scatterternary"
           }
          ],
          "surface": [
           {
            "colorbar": {
             "outlinewidth": 0,
             "ticks": ""
            },
            "colorscale": [
             [
              0,
              "#0d0887"
             ],
             [
              0.1111111111111111,
              "#46039f"
             ],
             [
              0.2222222222222222,
              "#7201a8"
             ],
             [
              0.3333333333333333,
              "#9c179e"
             ],
             [
              0.4444444444444444,
              "#bd3786"
             ],
             [
              0.5555555555555556,
              "#d8576b"
             ],
             [
              0.6666666666666666,
              "#ed7953"
             ],
             [
              0.7777777777777778,
              "#fb9f3a"
             ],
             [
              0.8888888888888888,
              "#fdca26"
             ],
             [
              1,
              "#f0f921"
             ]
            ],
            "type": "surface"
           }
          ],
          "table": [
           {
            "cells": {
             "fill": {
              "color": "#EBF0F8"
             },
             "line": {
              "color": "white"
             }
            },
            "header": {
             "fill": {
              "color": "#C8D4E3"
             },
             "line": {
              "color": "white"
             }
            },
            "type": "table"
           }
          ]
         },
         "layout": {
          "annotationdefaults": {
           "arrowcolor": "#2a3f5f",
           "arrowhead": 0,
           "arrowwidth": 1
          },
          "autotypenumbers": "strict",
          "coloraxis": {
           "colorbar": {
            "outlinewidth": 0,
            "ticks": ""
           }
          },
          "colorscale": {
           "diverging": [
            [
             0,
             "#8e0152"
            ],
            [
             0.1,
             "#c51b7d"
            ],
            [
             0.2,
             "#de77ae"
            ],
            [
             0.3,
             "#f1b6da"
            ],
            [
             0.4,
             "#fde0ef"
            ],
            [
             0.5,
             "#f7f7f7"
            ],
            [
             0.6,
             "#e6f5d0"
            ],
            [
             0.7,
             "#b8e186"
            ],
            [
             0.8,
             "#7fbc41"
            ],
            [
             0.9,
             "#4d9221"
            ],
            [
             1,
             "#276419"
            ]
           ],
           "sequential": [
            [
             0,
             "#0d0887"
            ],
            [
             0.1111111111111111,
             "#46039f"
            ],
            [
             0.2222222222222222,
             "#7201a8"
            ],
            [
             0.3333333333333333,
             "#9c179e"
            ],
            [
             0.4444444444444444,
             "#bd3786"
            ],
            [
             0.5555555555555556,
             "#d8576b"
            ],
            [
             0.6666666666666666,
             "#ed7953"
            ],
            [
             0.7777777777777778,
             "#fb9f3a"
            ],
            [
             0.8888888888888888,
             "#fdca26"
            ],
            [
             1,
             "#f0f921"
            ]
           ],
           "sequentialminus": [
            [
             0,
             "#0d0887"
            ],
            [
             0.1111111111111111,
             "#46039f"
            ],
            [
             0.2222222222222222,
             "#7201a8"
            ],
            [
             0.3333333333333333,
             "#9c179e"
            ],
            [
             0.4444444444444444,
             "#bd3786"
            ],
            [
             0.5555555555555556,
             "#d8576b"
            ],
            [
             0.6666666666666666,
             "#ed7953"
            ],
            [
             0.7777777777777778,
             "#fb9f3a"
            ],
            [
             0.8888888888888888,
             "#fdca26"
            ],
            [
             1,
             "#f0f921"
            ]
           ]
          },
          "colorway": [
           "#636efa",
           "#EF553B",
           "#00cc96",
           "#ab63fa",
           "#FFA15A",
           "#19d3f3",
           "#FF6692",
           "#B6E880",
           "#FF97FF",
           "#FECB52"
          ],
          "font": {
           "color": "#2a3f5f"
          },
          "geo": {
           "bgcolor": "white",
           "lakecolor": "white",
           "landcolor": "white",
           "showlakes": true,
           "showland": true,
           "subunitcolor": "#C8D4E3"
          },
          "hoverlabel": {
           "align": "left"
          },
          "hovermode": "closest",
          "mapbox": {
           "style": "light"
          },
          "paper_bgcolor": "white",
          "plot_bgcolor": "white",
          "polar": {
           "angularaxis": {
            "gridcolor": "#EBF0F8",
            "linecolor": "#EBF0F8",
            "ticks": ""
           },
           "bgcolor": "white",
           "radialaxis": {
            "gridcolor": "#EBF0F8",
            "linecolor": "#EBF0F8",
            "ticks": ""
           }
          },
          "scene": {
           "xaxis": {
            "backgroundcolor": "white",
            "gridcolor": "#DFE8F3",
            "gridwidth": 2,
            "linecolor": "#EBF0F8",
            "showbackground": true,
            "ticks": "",
            "zerolinecolor": "#EBF0F8"
           },
           "yaxis": {
            "backgroundcolor": "white",
            "gridcolor": "#DFE8F3",
            "gridwidth": 2,
            "linecolor": "#EBF0F8",
            "showbackground": true,
            "ticks": "",
            "zerolinecolor": "#EBF0F8"
           },
           "zaxis": {
            "backgroundcolor": "white",
            "gridcolor": "#DFE8F3",
            "gridwidth": 2,
            "linecolor": "#EBF0F8",
            "showbackground": true,
            "ticks": "",
            "zerolinecolor": "#EBF0F8"
           }
          },
          "shapedefaults": {
           "line": {
            "color": "#2a3f5f"
           }
          },
          "ternary": {
           "aaxis": {
            "gridcolor": "#DFE8F3",
            "linecolor": "#A2B1C6",
            "ticks": ""
           },
           "baxis": {
            "gridcolor": "#DFE8F3",
            "linecolor": "#A2B1C6",
            "ticks": ""
           },
           "bgcolor": "white",
           "caxis": {
            "gridcolor": "#DFE8F3",
            "linecolor": "#A2B1C6",
            "ticks": ""
           }
          },
          "title": {
           "x": 0.05
          },
          "xaxis": {
           "automargin": true,
           "gridcolor": "#EBF0F8",
           "linecolor": "#EBF0F8",
           "ticks": "",
           "title": {
            "standoff": 15
           },
           "zerolinecolor": "#EBF0F8",
           "zerolinewidth": 2
          },
          "yaxis": {
           "automargin": true,
           "gridcolor": "#EBF0F8",
           "linecolor": "#EBF0F8",
           "ticks": "",
           "title": {
            "standoff": 15
           },
           "zerolinecolor": "#EBF0F8",
           "zerolinewidth": 2
          }
         }
        },
        "title": {
         "text": "Nombre d'enresgistrements par Site"
        },
        "xaxis": {
         "anchor": "y",
         "domain": [
          0,
          1
         ],
         "title": {
          "text": "site"
         }
        },
        "yaxis": {
         "anchor": "x",
         "domain": [
          0,
          1
         ],
         "title": {
          "text": "Nombre d'enregistrements"
         }
        }
       }
      }
     },
     "metadata": {},
     "output_type": "display_data"
    }
   ],
   "source": [
    "fig = px.bar(dflocation, x='site', y='nombre_enregistrements', text_auto='.2s',\n",
    "             title=\"Nombre d'enresgistrements par Site\",\n",
    "             labels={'location': 'Site', 'nombre_enregistrements': 'Nombre d\\'enregistrements'})\n",
    "\n",
    "#fig.update_layout(xaxis_tickangle=-45, xaxis=dict(tickmode='linear'),\n",
    "                  #yaxis=dict(title='Number of Stations Opened'),\n",
    "                  #xaxis_title=\"Year\")\n",
    "fig.update_traces(textfont_size = 12, textangle =0, textposition = \"outside\", cliponaxis = False)\n",
    "\n",
    "fig.show()"
   ]
  },
  {
   "cell_type": "markdown",
   "metadata": {},
   "source": [
    "Nous constatons que tous les sites n'ont pas le meme nombre d'enregistrents.Dans la suite nous travaillons uniquement avec les site ayant plus 200 milles enregistrements"
   ]
  },
  {
   "cell_type": "code",
   "execution_count": 34,
   "metadata": {},
   "outputs": [
    {
     "data": {
      "text/plain": [
       "['DHT22', 'SDS011', 'UltimateGPS']"
      ]
     },
     "execution_count": 34,
     "metadata": {},
     "output_type": "execute_result"
    }
   ],
   "source": [
    "sensor_type= nairobi.distinct(\"metadonnees.sensor_type\")\n",
    "sensor_type"
   ]
  },
  {
   "cell_type": "markdown",
   "metadata": {},
   "source": [
    "-   SDS011 est un capteur  basé sur un laser SDS011 PM2.5/PM10 permettant de tester avec précision et fiabilité la qualité de l'air. Ce laser fiable, rapide et précis mesure le taux de particules dans l'air compris entre 0,3 et 10 µm.\n",
    "-   Le capteur DHT22 est un capteur permettant de mesurer l'humidité et la température de l'air ambiant grâce à sa combinaison deux en un d'un capteur d'humidité capacitif et d'une thermistance, le tout avec une précision élevée."
   ]
  },
  {
   "cell_type": "markdown",
   "metadata": {},
   "source": [
    "### C- Importantion"
   ]
  },
  {
   "cell_type": "markdown",
   "metadata": {},
   "source": [
    "Retenons uniquement les sites ayant plus de 200 milles enregistrements"
   ]
  },
  {
   "cell_type": "code",
   "execution_count": 33,
   "metadata": {},
   "outputs": [
    {
     "data": {
      "text/html": [
       "<div>\n",
       "<style scoped>\n",
       "    .dataframe tbody tr th:only-of-type {\n",
       "        vertical-align: middle;\n",
       "    }\n",
       "\n",
       "    .dataframe tbody tr th {\n",
       "        vertical-align: top;\n",
       "    }\n",
       "\n",
       "    .dataframe thead th {\n",
       "        text-align: right;\n",
       "    }\n",
       "</style>\n",
       "<table border=\"1\" class=\"dataframe\">\n",
       "  <thead>\n",
       "    <tr style=\"text-align: right;\">\n",
       "      <th></th>\n",
       "      <th>lat</th>\n",
       "      <th>lon</th>\n",
       "      <th>location</th>\n",
       "      <th>site</th>\n",
       "      <th>nombre_enregistrements</th>\n",
       "    </tr>\n",
       "  </thead>\n",
       "  <tbody>\n",
       "    <tr>\n",
       "      <th>47338</th>\n",
       "      <td>-1.291</td>\n",
       "      <td>36.781</td>\n",
       "      <td>31</td>\n",
       "      <td>Site : 31</td>\n",
       "      <td>203406</td>\n",
       "    </tr>\n",
       "    <tr>\n",
       "      <th>381860</th>\n",
       "      <td>-1.322</td>\n",
       "      <td>36.797</td>\n",
       "      <td>41</td>\n",
       "      <td>Site : 41</td>\n",
       "      <td>206250</td>\n",
       "    </tr>\n",
       "    <tr>\n",
       "      <th>71622</th>\n",
       "      <td>-1.291</td>\n",
       "      <td>36.733</td>\n",
       "      <td>36</td>\n",
       "      <td>Site : 36</td>\n",
       "      <td>213188</td>\n",
       "    </tr>\n",
       "    <tr>\n",
       "      <th>162260</th>\n",
       "      <td>-1.207</td>\n",
       "      <td>36.658</td>\n",
       "      <td>38</td>\n",
       "      <td>Site : 38</td>\n",
       "      <td>213344</td>\n",
       "    </tr>\n",
       "    <tr>\n",
       "      <th>50</th>\n",
       "      <td>-1.206</td>\n",
       "      <td>36.781</td>\n",
       "      <td>34</td>\n",
       "      <td>Site : 34</td>\n",
       "      <td>261424</td>\n",
       "    </tr>\n",
       "    <tr>\n",
       "      <th>8896</th>\n",
       "      <td>-1.320</td>\n",
       "      <td>36.885</td>\n",
       "      <td>26</td>\n",
       "      <td>Site : 26</td>\n",
       "      <td>263702</td>\n",
       "    </tr>\n",
       "    <tr>\n",
       "      <th>4</th>\n",
       "      <td>-1.298</td>\n",
       "      <td>36.791</td>\n",
       "      <td>7</td>\n",
       "      <td>Site : 7</td>\n",
       "      <td>460972</td>\n",
       "    </tr>\n",
       "  </tbody>\n",
       "</table>\n",
       "</div>"
      ],
      "text/plain": [
       "          lat     lon  location       site  nombre_enregistrements\n",
       "47338  -1.291  36.781        31  Site : 31                  203406\n",
       "381860 -1.322  36.797        41  Site : 41                  206250\n",
       "71622  -1.291  36.733        36  Site : 36                  213188\n",
       "162260 -1.207  36.658        38  Site : 38                  213344\n",
       "50     -1.206  36.781        34  Site : 34                  261424\n",
       "8896   -1.320  36.885        26  Site : 26                  263702\n",
       "4      -1.298  36.791         7   Site : 7                  460972"
      ]
     },
     "execution_count": 33,
     "metadata": {},
     "output_type": "execute_result"
    }
   ],
   "source": [
    "df_site = dflocation[dflocation['nombre_enregistrements']> 200000]\n",
    "df_site"
   ]
  },
  {
   "cell_type": "markdown",
   "metadata": {},
   "source": [
    "Importons les variables P1, P2 , temparature et humidity de chaque site"
   ]
  },
  {
   "cell_type": "code",
   "execution_count": 35,
   "metadata": {},
   "outputs": [],
   "source": [
    "dfs= []\n",
    "sites = df_site['location'].to_list()\n",
    "for s in sites:\n",
    "    result = nairobi.find(\n",
    "        {\"metadonnees.location\":f'{s}',},\n",
    "        projection={\"P2\": 1, \"P1\": 1, \"timestamp\":1, \"humidity\":1, \"temperature\":1 , \"_id\": 0}\n",
    "    )\n",
    "    #pp.pprint(result.next())\n",
    "    df_pa = pd.DataFrame(result)\n",
    "    dfs.append(df_pa) "
   ]
  },
  {
   "cell_type": "markdown",
   "metadata": {},
   "source": [
    "Etapes de Netoyage :\n",
    "- Conversion des types de données\n",
    "- Transformation du temps en datetime.datetim()\n",
    "- Localisation du fuseau horaire\n",
    "- Définition du temps comme index\n",
    "- Réechantillonage (aggrégation des données) à 1 heure\n",
    "- Imputation des valeurs manquantes"
   ]
  },
  {
   "cell_type": "code",
   "execution_count": 36,
   "metadata": {},
   "outputs": [],
   "source": [
    "from datetime import datetime\n",
    "#Conversion des types \n",
    "def transform(df):\n",
    "    #Conversion des types\n",
    "    df[['P2','P1', 'humidity','temperature']]= df[['P2','P1', 'humidity','temperature']].astype('float64')\n",
    "\n",
    "\n",
    "    for i in range(len(df['timestamp'])):\n",
    "        df['timestamp'][i] = datetime.fromisoformat(df_pa['timestamp'][i])\n",
    "\n",
    "    df = df.set_index('timestamp')\n",
    "    df.index = df.index.tz_convert(\"Africa/Nairobi\")\n",
    "    df = df[['P2','P1', 'humidity','temperature']].resample(\"1H\").mean().fillna(method=\"ffill\")\n",
    "    return df\n"
   ]
  },
  {
   "cell_type": "code",
   "execution_count": 37,
   "metadata": {},
   "outputs": [],
   "source": [
    "import warnings\n",
    "warnings.simplefilter('ignore')\n",
    "df_transformed =[]\n",
    "for df in dfs:\n",
    "    df_transformed.append(transform(df))"
   ]
  },
  {
   "cell_type": "markdown",
   "metadata": {},
   "source": [
    "Stockage des données de chaque site en csv"
   ]
  },
  {
   "cell_type": "code",
   "execution_count": 100,
   "metadata": {},
   "outputs": [
    {
     "name": "stdout",
     "output_type": "stream",
     "text": [
      "Fichier enregistré avc succes\n",
      "Fichier enregistré avc succes\n",
      "Fichier enregistré avc succes\n",
      "Fichier enregistré avc succes\n",
      "Fichier enregistré avc succes\n",
      "Fichier enregistré avc succes\n",
      "Fichier enregistré avc succes\n"
     ]
    }
   ],
   "source": [
    "\n",
    "for df , i  in zip(df_transformed , sites):\n",
    "    df.to_csv(f'C:/Users/hp/Documents/MASTER/Projets tutorés/air_quality_nairobi/data/site_{i}.csv')\n",
    "    print(\"Fichier enregistré avec succes\")"
   ]
  },
  {
   "cell_type": "markdown",
   "metadata": {},
   "source": [
    "Visualisation de l'un des données du site 7"
   ]
  },
  {
   "cell_type": "code",
   "execution_count": 48,
   "metadata": {},
   "outputs": [
    {
     "data": {
      "text/html": [
       "<div>\n",
       "<style scoped>\n",
       "    .dataframe tbody tr th:only-of-type {\n",
       "        vertical-align: middle;\n",
       "    }\n",
       "\n",
       "    .dataframe tbody tr th {\n",
       "        vertical-align: top;\n",
       "    }\n",
       "\n",
       "    .dataframe thead th {\n",
       "        text-align: right;\n",
       "    }\n",
       "</style>\n",
       "<table border=\"1\" class=\"dataframe\">\n",
       "  <thead>\n",
       "    <tr style=\"text-align: right;\">\n",
       "      <th></th>\n",
       "      <th>P2</th>\n",
       "      <th>P1</th>\n",
       "      <th>humidity</th>\n",
       "      <th>temperature</th>\n",
       "    </tr>\n",
       "    <tr>\n",
       "      <th>timestamp</th>\n",
       "      <th></th>\n",
       "      <th></th>\n",
       "      <th></th>\n",
       "      <th></th>\n",
       "    </tr>\n",
       "  </thead>\n",
       "  <tbody>\n",
       "    <tr>\n",
       "      <th>2018-09-01 03:00:00+03:00</th>\n",
       "      <td>15.862410</td>\n",
       "      <td>20.190974</td>\n",
       "      <td>65.257895</td>\n",
       "      <td>19.563743</td>\n",
       "    </tr>\n",
       "    <tr>\n",
       "      <th>2018-09-01 04:00:00+03:00</th>\n",
       "      <td>13.275321</td>\n",
       "      <td>17.721009</td>\n",
       "      <td>74.615294</td>\n",
       "      <td>17.303529</td>\n",
       "    </tr>\n",
       "    <tr>\n",
       "      <th>2018-09-01 05:00:00+03:00</th>\n",
       "      <td>11.583333</td>\n",
       "      <td>16.093021</td>\n",
       "      <td>77.711268</td>\n",
       "      <td>16.576056</td>\n",
       "    </tr>\n",
       "    <tr>\n",
       "      <th>2018-09-01 06:00:00+03:00</th>\n",
       "      <td>11.627500</td>\n",
       "      <td>17.052292</td>\n",
       "      <td>79.323288</td>\n",
       "      <td>16.163014</td>\n",
       "    </tr>\n",
       "    <tr>\n",
       "      <th>2018-09-01 07:00:00+03:00</th>\n",
       "      <td>13.981279</td>\n",
       "      <td>21.359419</td>\n",
       "      <td>78.396774</td>\n",
       "      <td>16.482258</td>\n",
       "    </tr>\n",
       "  </tbody>\n",
       "</table>\n",
       "</div>"
      ],
      "text/plain": [
       "                                  P2         P1   humidity  temperature\n",
       "timestamp                                                              \n",
       "2018-09-01 03:00:00+03:00  15.862410  20.190974  65.257895    19.563743\n",
       "2018-09-01 04:00:00+03:00  13.275321  17.721009  74.615294    17.303529\n",
       "2018-09-01 05:00:00+03:00  11.583333  16.093021  77.711268    16.576056\n",
       "2018-09-01 06:00:00+03:00  11.627500  17.052292  79.323288    16.163014\n",
       "2018-09-01 07:00:00+03:00  13.981279  21.359419  78.396774    16.482258"
      ]
     },
     "execution_count": 48,
     "metadata": {},
     "output_type": "execute_result"
    }
   ],
   "source": [
    "test = pd.read_csv(\"C:/Users/hp/Documents/MASTER/Projets tutorés/air_quality_nairobi/data/site_7.csv\")\n",
    "test = test.set_index('timestamp')\n",
    "test.head()"
   ]
  },
  {
   "cell_type": "markdown",
   "metadata": {},
   "source": [
    "Distribution des particules  PM2.5 dasn le Site 7"
   ]
  },
  {
   "cell_type": "code",
   "execution_count": 44,
   "metadata": {},
   "outputs": [
    {
     "data": {
      "image/png": "[encoded data removed]",
      "text/plain": [
       "<Figure size 1500x600 with 1 Axes>"
      ]
     },
     "metadata": {},
     "output_type": "display_data"
    }
   ],
   "source": [
    "fig, ax = plt.subplots(figsize=(15, 6))\n",
    "test[\"P2\"].plot(kind=\"box\", vert=False, title=\"Distribution des particules  PM2.5 \", ax=ax);\n",
    " "
   ]
  },
  {
   "cell_type": "code",
   "execution_count": 45,
   "metadata": {},
   "outputs": [
    {
     "data": {
      "image/png": "[encoded data removed]",
      "text/plain": [
       "<Figure size 1500x600 with 1 Axes>"
      ]
     },
     "metadata": {},
     "output_type": "display_data"
    }
   ],
   "source": [
    "fig, ax = plt.subplots(figsize=(15, 6))\n",
    "test[\"P2\"].plot(xlabel =\"temps\", ylabel=\"PM2.5\", title=\"Quantité de particules PM2.5  avec le temps\", ax=ax);"
   ]
  },
  {
   "cell_type": "markdown",
   "metadata": {},
   "source": []
  },
  {
   "cell_type": "code",
   "execution_count": null,
   "metadata": {},
   "outputs": [],
   "source": []
  }
 ],
 "metadata": {
  "kernelspec": {
   "display_name": "Python 3",
   "language": "python",
   "name": "python3"
  },
  "language_info": {
   "codemirror_mode": {
    "name": "ipython",
    "version": 3
   },
   "file_extension": ".py",
   "mimetype": "text/x-python",
   "name": "python",
   "nbconvert_exporter": "python",
   "pygments_lexer": "ipython3",
   "version": "3.11.0"
  },
  "orig_nbformat": 4
 },
 "nbformat": 4,
 "nbformat_minor": 2
}
