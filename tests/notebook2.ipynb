{
 "cells": [
  {
   "cell_type": "code",
   "execution_count": 1,
   "metadata": {},
   "outputs": [],
   "source": [
    "import csv\n",
    "import json\n",
    "from pprint import PrettyPrinter\n",
    "import datetime\n",
    "import pandas as pd\n",
    "from pymongo import MongoClient\n",
    "from datetime import datetime as dt"
   ]
  },
  {
   "cell_type": "code",
   "execution_count": 3,
   "metadata": {},
   "outputs": [],
   "source": [
    "def wrangle(filepthcsv, filepathjson):\n",
    "    # Charger le fichier CSV\n",
    "    fcsv = filepthcsv\n",
    "    #charger le repertoire ou le fichier JSON creer sera enregistrer\n",
    "    fjson = filepathjson\n",
    "    data = []\n",
    "    with open(fcsv) as csvfile:\n",
    "        for row in csv.DictReader(csvfile):\n",
    "            data.append(row)\n",
    "    df= pd.DataFrame(data)\n",
    "    df[['sensor_id','sensor_type','location','lat','lon','timestamp','value_type','value']] = df['sensor_id;sensor_type;location;lat;lon;timestamp;value_type;value'].str.split(';', expand= True)\n",
    "    df.drop(columns='sensor_id;sensor_type;location;lat;lon;timestamp;value_type;value', inplace=True)\n",
    "    #df[['sensor_id','location']]= df[['sensor_id','location']].astype('Int64')\n",
    "    #df[['lat','lon','value']]= df[['lat','lon','value']].astype('float')\n",
    "    data_dict = {}\n",
    "    dataset = []\n",
    "    for i in range(len(df)):\n",
    "            value_type =df['value_type'][i]\n",
    "            data_dict= {\n",
    "            f\"{value_type}\":df['value'][i],\n",
    "            'timestamp': df['timestamp'][i],\n",
    "            'metadonnees':{\n",
    "                        'lat':df['lat'][i],\n",
    "                        'lon':df['lon'][i],\n",
    "                        'mesure':df['value_type'][i],\n",
    "                        'sensor_id':df['sensor_id'][i],\n",
    "                        'sensor_type': df['sensor_type'][i],\n",
    "                        'location': df['location'][i]\n",
    "                    }\n",
    "                }\n",
    "            dataset.append(data_dict)\n",
    "    ##dataset_list= []\n",
    "    #for j in range(len(dataset)):\n",
    "        #dataset_list.append(dataset[j].values())\n",
    "        \n",
    "    #dataset=   list(data_dict.values())\n",
    "    # Enregistrer le fichier JSON\n",
    "    with open(fjson, 'w') as jsonFile:\n",
    "        jsonFile.write(json.dumps(dataset))\n",
    "        print(\"JSON enregistrer!\")"
   ]
  },
  {
   "cell_type": "code",
   "execution_count": 5,
   "metadata": {},
   "outputs": [
    {
     "name": "stdout",
     "output_type": "stream",
     "text": [
      "JSON enregistrer!\n"
     ]
    }
   ],
   "source": [
    "wrangle('C:/Users/hp/Documents/MASTER/Projets tutorés/dataset/october_2018_sensor_data_archive.csv','C:/Users/hp/Documents/MASTER/Projets tutorés/dataset/jsonfiles/october_2018_sensor_data_archive.json')"
   ]
  },
  {
   "cell_type": "code",
   "execution_count": 6,
   "metadata": {},
   "outputs": [],
   "source": [
    "pathcsv= [\n",
    "    'C:/Users/hp/Documents/MASTER/Projets tutorés/dataset/september_2018_sensor_data_archive.csv',\n",
    "    'C:/Users/hp/Documents/MASTER/Projets tutorés/dataset/october_2018_sensor_data_archive.csv',\n",
    "    'C:/Users/hp/Documents/MASTER/Projets tutorés/dataset/november_2018_sensor_data_archive.csv',\n",
    "    'C:/Users/hp/Documents/MASTER/Projets tutorés/dataset/december_2018_sensor_data_archive.csv'\n",
    "]\n",
    "pathjson = [\n",
    "    'C:/Users/hp/Documents/MASTER/Projets tutorés/dataset/jsonfiles/september_2018_sensor_data_archive.csv',\n",
    "    'C:/Users/hp/Documents/MASTER/Projets tutorés/dataset/jsonfiles/october_2018_sensor_data_archive.csv',\n",
    "    'C:/Users/hp/Documents/MASTER/Projets tutorés/dataset/jsonfiles/november_2018_sensor_data_archive.csv',\n",
    "    'C:/Users/hp/Documents/MASTER/Projets tutorés/dataset/jsonfiles/december_2018_sensor_data_archive.csv'\n",
    "]"
   ]
  },
  {
   "cell_type": "code",
   "execution_count": 7,
   "metadata": {},
   "outputs": [
    {
     "ename": "AttributeError",
     "evalue": "'str' object has no attribute 'DictReader'",
     "output_type": "error",
     "traceback": [
      "\u001b[1;31m---------------------------------------------------------------------------\u001b[0m",
      "\u001b[1;31mAttributeError\u001b[0m                            Traceback (most recent call last)",
      "Cell \u001b[1;32mIn[7], line 5\u001b[0m\n\u001b[0;32m      3\u001b[0m pathcsvs \u001b[39m=\u001b[39m pathlib\u001b[39m.\u001b[39mPath(csv)\n\u001b[0;32m      4\u001b[0m pathjsons\u001b[39m=\u001b[39m pathlib\u001b[39m.\u001b[39mPath(json)\n\u001b[1;32m----> 5\u001b[0m wrangle(pathcsvs,pathjsons)\n",
      "Cell \u001b[1;32mIn[3], line 8\u001b[0m, in \u001b[0;36mwrangle\u001b[1;34m(filepthcsv, filepathjson)\u001b[0m\n\u001b[0;32m      6\u001b[0m data \u001b[39m=\u001b[39m []\n\u001b[0;32m      7\u001b[0m \u001b[39mwith\u001b[39;00m \u001b[39mopen\u001b[39m(fcsv) \u001b[39mas\u001b[39;00m csvfile:\n\u001b[1;32m----> 8\u001b[0m     \u001b[39mfor\u001b[39;00m row \u001b[39min\u001b[39;00m csv\u001b[39m.\u001b[39;49mDictReader(csvfile):\n\u001b[0;32m      9\u001b[0m         data\u001b[39m.\u001b[39mappend(row)\n\u001b[0;32m     10\u001b[0m df\u001b[39m=\u001b[39m pd\u001b[39m.\u001b[39mDataFrame(data)\n",
      "\u001b[1;31mAttributeError\u001b[0m: 'str' object has no attribute 'DictReader'"
     ]
    }
   ],
   "source": [
    "wrangle('C:/Users/hp/Documents/MASTER/Projets tutorés/dataset/september_2018_sensor_data_archive.csv','C:/Users/hp/Documents/MASTER/Projets tutorés/dataset/jsonfiles/september_2018_sensor_data_archive.csv')\n",
    "wrangle('C:/Users/hp/Documents/MASTER/Projets tutorés/dataset/october_2018_sensor_data_archive.csv','C:/Users/hp/Documents/MASTER/Projets tutorés/dataset/jsonfiles/october_2018_sensor_data_archive.csv')\n",
    "wrangle('C:/Users/hp/Documents/MASTER/Projets tutorés/dataset/november_2018_sensor_data_archive.csv','C:/Users/hp/Documents/MASTER/Projets tutorés/dataset/jsonfiles/november_2018_sensor_data_archive.csv')\n",
    "wrangle('C:/Users/hp/Documents/MASTER/Projets tutorés/dataset/december_2018_sensor_data_archive.csv','C:/Users/hp/Documents/MASTER/Projets tutorés/dataset/jsonfiles/december_2018_sensor_data_archive.csv')"
   ]
  },
  {
   "cell_type": "code",
   "execution_count": 175,
   "metadata": {},
   "outputs": [
    {
     "name": "stdout",
     "output_type": "stream",
     "text": [
      "Fichier Importer avec succes!!\n"
     ]
    }
   ],
   "source": [
    "#Importer le fichier JSON sur MongoDB\n",
    "client = MongoClient('localhost', 27017)\n",
    "db = client['airquality'] #remplacer par le nom de la base\n",
    "collection_currency = db['nairobie9']#remplacer /nom collection\n",
    "#with open(fjson) as f:\n",
    "    #file_data = json.load(f)\n",
    "\n",
    "with open('C:/Users/hp/Documents/MASTER/Projets tutorés/dataset/json/october_2018_sensor_data_archive.json', 'r') as content_file:\n",
    "    content = content_file.read()\n",
    "records = json.loads(content)\n",
    "# utiliser collection_currency.insert(file_data) si la version de pymongo est < 3.0\n",
    "collection_currency.insert_many(records)\n",
    "client.close()\n",
    "print('Fichier Importer avec succes!!')"
   ]
  },
  {
   "cell_type": "code",
   "execution_count": 176,
   "metadata": {},
   "outputs": [],
   "source": [
    "pp =  PrettyPrinter(indent=2)\n",
    "client = MongoClient(host=\"localhost\",port=27017)"
   ]
  },
  {
   "cell_type": "code",
   "execution_count": 177,
   "metadata": {},
   "outputs": [
    {
     "name": "stdout",
     "output_type": "stream",
     "text": [
      "[ {'empty': False, 'name': 'admin', 'sizeOnDisk': 40960},\n",
      "  {'empty': False, 'name': 'airquality', 'sizeOnDisk': 175550464},\n",
      "  {'empty': False, 'name': 'bdtest', 'sizeOnDisk': 225280},\n",
      "  {'empty': False, 'name': 'config', 'sizeOnDisk': 110592},\n",
      "  {'empty': False, 'name': 'local', 'sizeOnDisk': 188416}]\n"
     ]
    }
   ],
   "source": [
    "pp.pprint(list(client.list_databases()))"
   ]
  },
  {
   "cell_type": "code",
   "execution_count": 178,
   "metadata": {},
   "outputs": [],
   "source": [
    "db = client[\"airquality\"]"
   ]
  },
  {
   "cell_type": "code",
   "execution_count": 180,
   "metadata": {},
   "outputs": [
    {
     "name": "stdout",
     "output_type": "stream",
     "text": [
      "nairobie5\n",
      "nairobie6\n",
      "movie\n",
      "nairobie3\n",
      "nairobie8\n",
      "nairobie9\n",
      "nairobi\n",
      "nairobi0418\n",
      "nairobie7\n",
      "nairobie4\n"
     ]
    }
   ],
   "source": [
    "for c in db.list_collections():\n",
    "    print(c[\"name\"])"
   ]
  },
  {
   "cell_type": "code",
   "execution_count": 181,
   "metadata": {},
   "outputs": [],
   "source": [
    "nairobi = db[\"nairobie9\"]"
   ]
  },
  {
   "cell_type": "code",
   "execution_count": 182,
   "metadata": {},
   "outputs": [
    {
     "data": {
      "text/plain": [
       "1068647"
      ]
     },
     "execution_count": 182,
     "metadata": {},
     "output_type": "execute_result"
    }
   ],
   "source": [
    "nairobi.count_documents({})"
   ]
  },
  {
   "cell_type": "code",
   "execution_count": 183,
   "metadata": {},
   "outputs": [
    {
     "name": "stdout",
     "output_type": "stream",
     "text": [
      "{ 'P1': '11.40',\n",
      "  '_id': ObjectId('65b7f81ef7853ae1cf8c750e'),\n",
      "  'metadonnees': { 'lat': '-1.291',\n",
      "                   'location': '31',\n",
      "                   'lon': '36.781',\n",
      "                   'mesure': 'P1',\n",
      "                   'sensor_id': '59',\n",
      "                   'sensor_type': 'SDS011'},\n",
      "  'timestamp': '2018-10-01T00:00:10.061077+00:00'}\n"
     ]
    }
   ],
   "source": [
    "result = nairobi.find_one({})\n",
    "pp.pprint(result)"
   ]
  },
  {
   "cell_type": "code",
   "execution_count": 184,
   "metadata": {},
   "outputs": [
    {
     "data": {
      "text/plain": [
       "['18',\n",
       " '25',\n",
       " '26',\n",
       " '27',\n",
       " '28',\n",
       " '29',\n",
       " '30',\n",
       " '31',\n",
       " '32',\n",
       " '33',\n",
       " '34',\n",
       " '35',\n",
       " '37',\n",
       " '38',\n",
       " '40',\n",
       " '41',\n",
       " '44',\n",
       " '46',\n",
       " '48',\n",
       " '49',\n",
       " '50',\n",
       " '51',\n",
       " '52',\n",
       " '53',\n",
       " '6',\n",
       " '7',\n",
       " '8']"
      ]
     },
     "execution_count": 184,
     "metadata": {},
     "output_type": "execute_result"
    }
   ],
   "source": [
    "site= nairobi.distinct(\"metadonnees.location\")\n",
    "site"
   ]
  },
  {
   "cell_type": "code",
   "execution_count": 185,
   "metadata": {},
   "outputs": [
    {
     "name": "stdout",
     "output_type": "stream",
     "text": [
      "Documents du Site 18: 39618\n",
      "Documents du Site 25: 33172\n",
      "Documents du Site 26: 30616\n",
      "Documents du Site 27: 69038\n",
      "Documents du Site 28: 29384\n",
      "Documents du Site 29: 70728\n",
      "Documents du Site 30: 39438\n",
      "Documents du Site 31: 66044\n",
      "Documents du Site 32: 66010\n",
      "Documents du Site 33: 20084\n",
      "Documents du Site 34: 62518\n",
      "Documents du Site 35: 18044\n",
      "Documents du Site 37: 48054\n",
      "Documents du Site 38: 4652\n",
      "Documents du Site 40: 10968\n",
      "Documents du Site 41: 33620\n",
      "Documents du Site 44: 7780\n",
      "Documents du Site 46: 61506\n",
      "Documents du Site 48: 61732\n",
      "Documents du Site 49: 20352\n",
      "Documents du Site 50: 9960\n",
      "Documents du Site 51: 1754\n",
      "Documents du Site 52: 3470\n",
      "Documents du Site 53: 1050\n",
      "Documents du Site 6: 60478\n",
      "Documents du Site 7: 198474\n",
      "Documents du Site 8: 103\n"
     ]
    }
   ],
   "source": [
    "for i in site: \n",
    "    print(f'Documents du Site {i}:', nairobi.count_documents({\"metadonnees.location\":f'{i}'}))"
   ]
  },
  {
   "cell_type": "code",
   "execution_count": 172,
   "metadata": {},
   "outputs": [
    {
     "data": {
      "text/plain": [
       "['P1', 'P2', 'humidity', 'temperature']"
      ]
     },
     "execution_count": 172,
     "metadata": {},
     "output_type": "execute_result"
    }
   ],
   "source": [
    "nairobi.distinct(\"metadonnees.mesure\")"
   ]
  },
  {
   "cell_type": "code",
   "execution_count": 36,
   "metadata": {},
   "outputs": [
    {
     "data": {
      "text/plain": [
       "['DHT22', 'SDS011']"
      ]
     },
     "execution_count": 36,
     "metadata": {},
     "output_type": "execute_result"
    }
   ],
   "source": [
    "sensor_type= nairobi.distinct(\"metadonnees.sensor_type\")\n",
    "sensor_type"
   ]
  },
  {
   "cell_type": "code",
   "execution_count": 37,
   "metadata": {},
   "outputs": [
    {
     "name": "stdout",
     "output_type": "stream",
     "text": [
      "(\" Dans le Site 16: [{'_id': 'SDS011', 'count': 894}, {'_id': 'DHT22', \"\n",
      " \"'count': 884}]\")\n",
      "\" Dans le Site 21: [{'_id': 'DHT22', 'count': 2}]\"\n",
      "\" Dans le Site 25: [{'_id': 'SDS011', 'count': 31862}]\"\n",
      "(\" Dans le Site 26: [{'_id': 'SDS011', 'count': 30836}, {'_id': 'DHT22', \"\n",
      " \"'count': 5224}]\")\n",
      "(\" Dans le Site 6: [{'_id': 'SDS011', 'count': 1526}, {'_id': 'DHT22', \"\n",
      " \"'count': 1454}]\")\n",
      "\" Dans le Site 7: [{'_id': 'SDS011', 'count': 30390}]\"\n",
      "(\" Dans le Site 8: [{'_id': 'SDS011', 'count': 15300}, {'_id': 'DHT22', \"\n",
      " \"'count': 21262}]\")\n"
     ]
    }
   ],
   "source": [
    "for i in site: \n",
    "    result = nairobi.aggregate(\n",
    "        [\n",
    "            {\"$match\": {\"metadonnees.sensor_id\":f'{i}'}},\n",
    "            {\"$group\": {\"_id\": \"$metadonnees.location\", \"count\":{\"$count\":{}}}}\n",
    "        ]\n",
    "    )\n",
    "    pp.pprint(f' Dans le Site {i}: {list(result)}')"
   ]
  },
  {
   "cell_type": "code",
   "execution_count": 39,
   "metadata": {},
   "outputs": [],
   "source": [
    "result = nairobi.find(\n",
    "    {\"metadonnees.location\":'16'},\n",
    "    projection={\"P2\": 1, \"P1\": 1, \"timestamp\":1, \"humidity\":1, \"temperature\":1 , \"_id\": 0}\n",
    ")\n",
    "#pp.pprint(result.next())\n",
    "df_pa = pd.DataFrame(result)"
   ]
  },
  {
   "cell_type": "code",
   "execution_count": 40,
   "metadata": {},
   "outputs": [
    {
     "data": {
      "text/html": [
       "<div>\n",
       "<style scoped>\n",
       "    .dataframe tbody tr th:only-of-type {\n",
       "        vertical-align: middle;\n",
       "    }\n",
       "\n",
       "    .dataframe tbody tr th {\n",
       "        vertical-align: top;\n",
       "    }\n",
       "\n",
       "    .dataframe thead th {\n",
       "        text-align: right;\n",
       "    }\n",
       "</style>\n",
       "<table border=\"1\" class=\"dataframe\">\n",
       "  <thead>\n",
       "    <tr style=\"text-align: right;\">\n",
       "      <th></th>\n",
       "      <th>P2</th>\n",
       "      <th>timestamp</th>\n",
       "      <th>P1</th>\n",
       "      <th>humidity</th>\n",
       "      <th>temperature</th>\n",
       "    </tr>\n",
       "  </thead>\n",
       "  <tbody>\n",
       "    <tr>\n",
       "      <th>0</th>\n",
       "      <td>49.03</td>\n",
       "      <td>2018-06-08T10:06:11.188304+00:00</td>\n",
       "      <td>NaN</td>\n",
       "      <td>NaN</td>\n",
       "      <td>NaN</td>\n",
       "    </tr>\n",
       "    <tr>\n",
       "      <th>1</th>\n",
       "      <td>NaN</td>\n",
       "      <td>2018-06-08T10:06:11.188304+00:00</td>\n",
       "      <td>54.60</td>\n",
       "      <td>NaN</td>\n",
       "      <td>NaN</td>\n",
       "    </tr>\n",
       "    <tr>\n",
       "      <th>2</th>\n",
       "      <td>52.03</td>\n",
       "      <td>2018-06-08T10:12:33.940972+00:00</td>\n",
       "      <td>NaN</td>\n",
       "      <td>NaN</td>\n",
       "      <td>NaN</td>\n",
       "    </tr>\n",
       "    <tr>\n",
       "      <th>3</th>\n",
       "      <td>NaN</td>\n",
       "      <td>2018-06-08T10:12:33.940972+00:00</td>\n",
       "      <td>57.25</td>\n",
       "      <td>NaN</td>\n",
       "      <td>NaN</td>\n",
       "    </tr>\n",
       "    <tr>\n",
       "      <th>4</th>\n",
       "      <td>52.03</td>\n",
       "      <td>2018-06-08T10:12:43.093913+00:00</td>\n",
       "      <td>NaN</td>\n",
       "      <td>NaN</td>\n",
       "      <td>NaN</td>\n",
       "    </tr>\n",
       "    <tr>\n",
       "      <th>5</th>\n",
       "      <td>NaN</td>\n",
       "      <td>2018-06-08T10:12:43.093913+00:00</td>\n",
       "      <td>57.25</td>\n",
       "      <td>NaN</td>\n",
       "      <td>NaN</td>\n",
       "    </tr>\n",
       "    <tr>\n",
       "      <th>6</th>\n",
       "      <td>NaN</td>\n",
       "      <td>2018-06-08T10:12:52.254260+00:00</td>\n",
       "      <td>NaN</td>\n",
       "      <td>45.40</td>\n",
       "      <td>NaN</td>\n",
       "    </tr>\n",
       "    <tr>\n",
       "      <th>7</th>\n",
       "      <td>NaN</td>\n",
       "      <td>2018-06-08T10:12:52.254260+00:00</td>\n",
       "      <td>NaN</td>\n",
       "      <td>NaN</td>\n",
       "      <td>30.90</td>\n",
       "    </tr>\n",
       "    <tr>\n",
       "      <th>8</th>\n",
       "      <td>NaN</td>\n",
       "      <td>2018-06-08T10:13:05.215055+00:00</td>\n",
       "      <td>NaN</td>\n",
       "      <td>45.40</td>\n",
       "      <td>NaN</td>\n",
       "    </tr>\n",
       "    <tr>\n",
       "      <th>9</th>\n",
       "      <td>NaN</td>\n",
       "      <td>2018-06-08T10:13:05.215055+00:00</td>\n",
       "      <td>NaN</td>\n",
       "      <td>NaN</td>\n",
       "      <td>30.90</td>\n",
       "    </tr>\n",
       "    <tr>\n",
       "      <th>10</th>\n",
       "      <td>51.63</td>\n",
       "      <td>2018-06-10T17:47:15.834073+00:00</td>\n",
       "      <td>NaN</td>\n",
       "      <td>NaN</td>\n",
       "      <td>NaN</td>\n",
       "    </tr>\n",
       "    <tr>\n",
       "      <th>11</th>\n",
       "      <td>NaN</td>\n",
       "      <td>2018-06-10T17:47:15.834073+00:00</td>\n",
       "      <td>57.50</td>\n",
       "      <td>NaN</td>\n",
       "      <td>NaN</td>\n",
       "    </tr>\n",
       "    <tr>\n",
       "      <th>12</th>\n",
       "      <td>51.63</td>\n",
       "      <td>2018-06-10T17:47:24.937261+00:00</td>\n",
       "      <td>NaN</td>\n",
       "      <td>NaN</td>\n",
       "      <td>NaN</td>\n",
       "    </tr>\n",
       "    <tr>\n",
       "      <th>13</th>\n",
       "      <td>NaN</td>\n",
       "      <td>2018-06-10T17:47:24.937261+00:00</td>\n",
       "      <td>57.50</td>\n",
       "      <td>NaN</td>\n",
       "      <td>NaN</td>\n",
       "    </tr>\n",
       "    <tr>\n",
       "      <th>14</th>\n",
       "      <td>NaN</td>\n",
       "      <td>2018-06-10T17:47:35.715076+00:00</td>\n",
       "      <td>NaN</td>\n",
       "      <td>84.60</td>\n",
       "      <td>NaN</td>\n",
       "    </tr>\n",
       "    <tr>\n",
       "      <th>15</th>\n",
       "      <td>NaN</td>\n",
       "      <td>2018-06-10T17:47:35.715076+00:00</td>\n",
       "      <td>NaN</td>\n",
       "      <td>NaN</td>\n",
       "      <td>19.50</td>\n",
       "    </tr>\n",
       "    <tr>\n",
       "      <th>16</th>\n",
       "      <td>NaN</td>\n",
       "      <td>2018-06-10T17:47:45.176296+00:00</td>\n",
       "      <td>NaN</td>\n",
       "      <td>84.60</td>\n",
       "      <td>NaN</td>\n",
       "    </tr>\n",
       "    <tr>\n",
       "      <th>17</th>\n",
       "      <td>NaN</td>\n",
       "      <td>2018-06-10T17:47:45.176296+00:00</td>\n",
       "      <td>NaN</td>\n",
       "      <td>NaN</td>\n",
       "      <td>19.50</td>\n",
       "    </tr>\n",
       "    <tr>\n",
       "      <th>18</th>\n",
       "      <td>43.57</td>\n",
       "      <td>2018-06-10T17:50:29.796756+00:00</td>\n",
       "      <td>NaN</td>\n",
       "      <td>NaN</td>\n",
       "      <td>NaN</td>\n",
       "    </tr>\n",
       "    <tr>\n",
       "      <th>19</th>\n",
       "      <td>NaN</td>\n",
       "      <td>2018-06-10T17:50:29.796756+00:00</td>\n",
       "      <td>48.60</td>\n",
       "      <td>NaN</td>\n",
       "      <td>NaN</td>\n",
       "    </tr>\n",
       "    <tr>\n",
       "      <th>20</th>\n",
       "      <td>43.57</td>\n",
       "      <td>2018-06-10T17:50:38.962523+00:00</td>\n",
       "      <td>NaN</td>\n",
       "      <td>NaN</td>\n",
       "      <td>NaN</td>\n",
       "    </tr>\n",
       "    <tr>\n",
       "      <th>21</th>\n",
       "      <td>NaN</td>\n",
       "      <td>2018-06-10T17:50:38.962523+00:00</td>\n",
       "      <td>48.60</td>\n",
       "      <td>NaN</td>\n",
       "      <td>NaN</td>\n",
       "    </tr>\n",
       "    <tr>\n",
       "      <th>22</th>\n",
       "      <td>NaN</td>\n",
       "      <td>2018-06-10T17:50:50.139848+00:00</td>\n",
       "      <td>NaN</td>\n",
       "      <td>84.30</td>\n",
       "      <td>NaN</td>\n",
       "    </tr>\n",
       "    <tr>\n",
       "      <th>23</th>\n",
       "      <td>NaN</td>\n",
       "      <td>2018-06-10T17:50:50.139848+00:00</td>\n",
       "      <td>NaN</td>\n",
       "      <td>NaN</td>\n",
       "      <td>19.30</td>\n",
       "    </tr>\n",
       "    <tr>\n",
       "      <th>24</th>\n",
       "      <td>NaN</td>\n",
       "      <td>2018-06-10T17:50:59.431382+00:00</td>\n",
       "      <td>NaN</td>\n",
       "      <td>84.30</td>\n",
       "      <td>NaN</td>\n",
       "    </tr>\n",
       "    <tr>\n",
       "      <th>25</th>\n",
       "      <td>NaN</td>\n",
       "      <td>2018-06-10T17:50:59.431382+00:00</td>\n",
       "      <td>NaN</td>\n",
       "      <td>NaN</td>\n",
       "      <td>19.30</td>\n",
       "    </tr>\n",
       "    <tr>\n",
       "      <th>26</th>\n",
       "      <td>59.87</td>\n",
       "      <td>2018-06-10T17:53:44.468788+00:00</td>\n",
       "      <td>NaN</td>\n",
       "      <td>NaN</td>\n",
       "      <td>NaN</td>\n",
       "    </tr>\n",
       "    <tr>\n",
       "      <th>27</th>\n",
       "      <td>NaN</td>\n",
       "      <td>2018-06-10T17:53:44.468788+00:00</td>\n",
       "      <td>66.57</td>\n",
       "      <td>NaN</td>\n",
       "      <td>NaN</td>\n",
       "    </tr>\n",
       "    <tr>\n",
       "      <th>28</th>\n",
       "      <td>59.87</td>\n",
       "      <td>2018-06-10T17:53:53.732331+00:00</td>\n",
       "      <td>NaN</td>\n",
       "      <td>NaN</td>\n",
       "      <td>NaN</td>\n",
       "    </tr>\n",
       "    <tr>\n",
       "      <th>29</th>\n",
       "      <td>NaN</td>\n",
       "      <td>2018-06-10T17:53:53.732331+00:00</td>\n",
       "      <td>66.57</td>\n",
       "      <td>NaN</td>\n",
       "      <td>NaN</td>\n",
       "    </tr>\n",
       "  </tbody>\n",
       "</table>\n",
       "</div>"
      ],
      "text/plain": [
       "       P2                         timestamp     P1 humidity temperature\n",
       "0   49.03  2018-06-08T10:06:11.188304+00:00    NaN      NaN         NaN\n",
       "1     NaN  2018-06-08T10:06:11.188304+00:00  54.60      NaN         NaN\n",
       "2   52.03  2018-06-08T10:12:33.940972+00:00    NaN      NaN         NaN\n",
       "3     NaN  2018-06-08T10:12:33.940972+00:00  57.25      NaN         NaN\n",
       "4   52.03  2018-06-08T10:12:43.093913+00:00    NaN      NaN         NaN\n",
       "5     NaN  2018-06-08T10:12:43.093913+00:00  57.25      NaN         NaN\n",
       "6     NaN  2018-06-08T10:12:52.254260+00:00    NaN    45.40         NaN\n",
       "7     NaN  2018-06-08T10:12:52.254260+00:00    NaN      NaN       30.90\n",
       "8     NaN  2018-06-08T10:13:05.215055+00:00    NaN    45.40         NaN\n",
       "9     NaN  2018-06-08T10:13:05.215055+00:00    NaN      NaN       30.90\n",
       "10  51.63  2018-06-10T17:47:15.834073+00:00    NaN      NaN         NaN\n",
       "11    NaN  2018-06-10T17:47:15.834073+00:00  57.50      NaN         NaN\n",
       "12  51.63  2018-06-10T17:47:24.937261+00:00    NaN      NaN         NaN\n",
       "13    NaN  2018-06-10T17:47:24.937261+00:00  57.50      NaN         NaN\n",
       "14    NaN  2018-06-10T17:47:35.715076+00:00    NaN    84.60         NaN\n",
       "15    NaN  2018-06-10T17:47:35.715076+00:00    NaN      NaN       19.50\n",
       "16    NaN  2018-06-10T17:47:45.176296+00:00    NaN    84.60         NaN\n",
       "17    NaN  2018-06-10T17:47:45.176296+00:00    NaN      NaN       19.50\n",
       "18  43.57  2018-06-10T17:50:29.796756+00:00    NaN      NaN         NaN\n",
       "19    NaN  2018-06-10T17:50:29.796756+00:00  48.60      NaN         NaN\n",
       "20  43.57  2018-06-10T17:50:38.962523+00:00    NaN      NaN         NaN\n",
       "21    NaN  2018-06-10T17:50:38.962523+00:00  48.60      NaN         NaN\n",
       "22    NaN  2018-06-10T17:50:50.139848+00:00    NaN    84.30         NaN\n",
       "23    NaN  2018-06-10T17:50:50.139848+00:00    NaN      NaN       19.30\n",
       "24    NaN  2018-06-10T17:50:59.431382+00:00    NaN    84.30         NaN\n",
       "25    NaN  2018-06-10T17:50:59.431382+00:00    NaN      NaN       19.30\n",
       "26  59.87  2018-06-10T17:53:44.468788+00:00    NaN      NaN         NaN\n",
       "27    NaN  2018-06-10T17:53:44.468788+00:00  66.57      NaN         NaN\n",
       "28  59.87  2018-06-10T17:53:53.732331+00:00    NaN      NaN         NaN\n",
       "29    NaN  2018-06-10T17:53:53.732331+00:00  66.57      NaN         NaN"
      ]
     },
     "execution_count": 40,
     "metadata": {},
     "output_type": "execute_result"
    }
   ],
   "source": [
    "df_pa.head(30)"
   ]
  },
  {
   "cell_type": "code",
   "execution_count": 2,
   "metadata": {},
   "outputs": [
    {
     "data": {
      "image/png": "[encoded data removed]",
      "text/plain": [
       "<Figure size 600x400 with 1 Axes>"
      ]
     },
     "metadata": {},
     "output_type": "display_data"
    }
   ],
   "source": [
    "# Author: Johann Faouzi <johann.faouzi@gmail.com>\n",
    "# License: BSD-3-Clause\n",
    "\n",
    "import numpy as np\n",
    "import matplotlib.pyplot as plt\n",
    "from pyts.approximation import PiecewiseAggregateApproximation\n",
    "\n",
    "# Parameters\n",
    "n_samples, n_timestamps = 100, 48\n",
    "\n",
    "# Toy dataset\n",
    "rng = np.random.RandomState(41)\n",
    "X = rng.randn(n_samples, n_timestamps)\n",
    "\n",
    "# PAA transformation\n",
    "window_size = 6\n",
    "paa = PiecewiseAggregateApproximation(window_size=window_size)\n",
    "X_paa = paa.transform(X)\n",
    "\n",
    "# Show the results for the first time series\n",
    "plt.figure(figsize=(6, 4))\n",
    "plt.plot(X[0], 'o--', ms=4, label='Original')\n",
    "plt.plot(np.arange(window_size // 2,\n",
    "                   n_timestamps + window_size // 2,\n",
    "                   window_size), X_paa[0], 'o--', ms=4, label='PAA')\n",
    "plt.vlines(np.arange(0, n_timestamps, window_size) - 0.5,\n",
    "           X[0].min(), X[0].max(), color='g', linestyles='--', linewidth=0.5)\n",
    "plt.legend(loc='best', fontsize=10)\n",
    "plt.xlabel('Time', fontsize=12)\n",
    "plt.title('Piecewise Aggregate Approximation', fontsize=16)\n",
    "plt.show()"
   ]
  },
  {
   "cell_type": "code",
   "execution_count": 6,
   "metadata": {},
   "outputs": [
    {
     "data": {
      "text/plain": [
       "array([-0.98520304, -0.95836832,  0.44910865, -0.94246256,  0.15890945,\n",
       "        0.38807562,  0.43733776,  0.41822955, -0.73218499, -1.42828297,\n",
       "       -2.00921735, -0.23343958,  1.80395237, -1.94867066,  1.36785101,\n",
       "       -1.85873942, -1.23395073, -0.50756976,  1.4071715 , -0.94109705,\n",
       "        0.87350473,  1.13510019,  1.1659844 ,  0.04921449,  0.51094674,\n",
       "        0.63129939,  0.88770207,  0.05765164, -0.32954444, -2.83207869,\n",
       "       -1.18255366, -0.05484602,  1.24835183,  2.51034292, -0.17133646,\n",
       "       -0.45805514, -1.33878152,  1.32006292, -1.40932928, -1.09829722,\n",
       "       -0.48675106, -1.00097056,  1.77387679,  0.55578305, -0.54871197,\n",
       "        1.08001575, -0.75243358,  1.15879497])"
      ]
     },
     "execution_count": 6,
     "metadata": {},
     "output_type": "execute_result"
    }
   ],
   "source": [
    "X[1]"
   ]
  }
 ],
 "metadata": {
  "kernelspec": {
   "display_name": "Python 3",
   "language": "python",
   "name": "python3"
  },
  "language_info": {
   "codemirror_mode": {
    "name": "ipython",
    "version": 3
   },
   "file_extension": ".py",
   "mimetype": "text/x-python",
   "name": "python",
   "nbconvert_exporter": "python",
   "pygments_lexer": "ipython3",
   "version": "3.11.0"
  },
  "orig_nbformat": 4
 },
 "nbformat": 4,
 "nbformat_minor": 2
}
